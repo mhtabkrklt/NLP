{
  "nbformat": 4,
  "nbformat_minor": 0,
  "metadata": {
    "colab": {
      "provenance": [],
      "gpuType": "T4",
      "authorship_tag": "ABX9TyNAa9DrCJ8+euBbJZyLosK6",
      "include_colab_link": true
    },
    "kernelspec": {
      "name": "python3",
      "display_name": "Python 3"
    },
    "language_info": {
      "name": "python"
    },
    "accelerator": "GPU",
    "widgets": {
      "application/vnd.jupyter.widget-state+json": {
        "411b8c4d35a7490095a9142785590f98": {
          "model_module": "@jupyter-widgets/controls",
          "model_name": "HBoxModel",
          "model_module_version": "1.5.0",
          "state": {
            "_dom_classes": [],
            "_model_module": "@jupyter-widgets/controls",
            "_model_module_version": "1.5.0",
            "_model_name": "HBoxModel",
            "_view_count": null,
            "_view_module": "@jupyter-widgets/controls",
            "_view_module_version": "1.5.0",
            "_view_name": "HBoxView",
            "box_style": "",
            "children": [
              "IPY_MODEL_d989d92bb65e4b859bc1a7341db934c8",
              "IPY_MODEL_9effb151b97f41edb3714e145fd48bbe",
              "IPY_MODEL_ac4f0c62af61472c80fd038f5b3dc710"
            ],
            "layout": "IPY_MODEL_8b73c3c7fcd94fa7bec1dc8dc2a0523c"
          }
        },
        "d989d92bb65e4b859bc1a7341db934c8": {
          "model_module": "@jupyter-widgets/controls",
          "model_name": "HTMLModel",
          "model_module_version": "1.5.0",
          "state": {
            "_dom_classes": [],
            "_model_module": "@jupyter-widgets/controls",
            "_model_module_version": "1.5.0",
            "_model_name": "HTMLModel",
            "_view_count": null,
            "_view_module": "@jupyter-widgets/controls",
            "_view_module_version": "1.5.0",
            "_view_name": "HTMLView",
            "description": "",
            "description_tooltip": null,
            "layout": "IPY_MODEL_9b0fd3cf8d524444b9c30f582b3fe655",
            "placeholder": "​",
            "style": "IPY_MODEL_b2c6048f25c4473dbc177b01e07ad411",
            "value": "Map: 100%"
          }
        },
        "9effb151b97f41edb3714e145fd48bbe": {
          "model_module": "@jupyter-widgets/controls",
          "model_name": "FloatProgressModel",
          "model_module_version": "1.5.0",
          "state": {
            "_dom_classes": [],
            "_model_module": "@jupyter-widgets/controls",
            "_model_module_version": "1.5.0",
            "_model_name": "FloatProgressModel",
            "_view_count": null,
            "_view_module": "@jupyter-widgets/controls",
            "_view_module_version": "1.5.0",
            "_view_name": "ProgressView",
            "bar_style": "success",
            "description": "",
            "description_tooltip": null,
            "layout": "IPY_MODEL_d3ba6cbac4e34a8b8e1c55e8c8a3fa8c",
            "max": 1113,
            "min": 0,
            "orientation": "horizontal",
            "style": "IPY_MODEL_8f1dd895888a4a7e9f2131fefd11e551",
            "value": 1113
          }
        },
        "ac4f0c62af61472c80fd038f5b3dc710": {
          "model_module": "@jupyter-widgets/controls",
          "model_name": "HTMLModel",
          "model_module_version": "1.5.0",
          "state": {
            "_dom_classes": [],
            "_model_module": "@jupyter-widgets/controls",
            "_model_module_version": "1.5.0",
            "_model_name": "HTMLModel",
            "_view_count": null,
            "_view_module": "@jupyter-widgets/controls",
            "_view_module_version": "1.5.0",
            "_view_name": "HTMLView",
            "description": "",
            "description_tooltip": null,
            "layout": "IPY_MODEL_abebc2e88abd49d7a07ed3d3a1dc5493",
            "placeholder": "​",
            "style": "IPY_MODEL_4ab004f4bf6248798ef99de496929b3b",
            "value": " 1113/1113 [00:07&lt;00:00, 151.39 examples/s]"
          }
        },
        "8b73c3c7fcd94fa7bec1dc8dc2a0523c": {
          "model_module": "@jupyter-widgets/base",
          "model_name": "LayoutModel",
          "model_module_version": "1.2.0",
          "state": {
            "_model_module": "@jupyter-widgets/base",
            "_model_module_version": "1.2.0",
            "_model_name": "LayoutModel",
            "_view_count": null,
            "_view_module": "@jupyter-widgets/base",
            "_view_module_version": "1.2.0",
            "_view_name": "LayoutView",
            "align_content": null,
            "align_items": null,
            "align_self": null,
            "border": null,
            "bottom": null,
            "display": null,
            "flex": null,
            "flex_flow": null,
            "grid_area": null,
            "grid_auto_columns": null,
            "grid_auto_flow": null,
            "grid_auto_rows": null,
            "grid_column": null,
            "grid_gap": null,
            "grid_row": null,
            "grid_template_areas": null,
            "grid_template_columns": null,
            "grid_template_rows": null,
            "height": null,
            "justify_content": null,
            "justify_items": null,
            "left": null,
            "margin": null,
            "max_height": null,
            "max_width": null,
            "min_height": null,
            "min_width": null,
            "object_fit": null,
            "object_position": null,
            "order": null,
            "overflow": null,
            "overflow_x": null,
            "overflow_y": null,
            "padding": null,
            "right": null,
            "top": null,
            "visibility": null,
            "width": null
          }
        },
        "9b0fd3cf8d524444b9c30f582b3fe655": {
          "model_module": "@jupyter-widgets/base",
          "model_name": "LayoutModel",
          "model_module_version": "1.2.0",
          "state": {
            "_model_module": "@jupyter-widgets/base",
            "_model_module_version": "1.2.0",
            "_model_name": "LayoutModel",
            "_view_count": null,
            "_view_module": "@jupyter-widgets/base",
            "_view_module_version": "1.2.0",
            "_view_name": "LayoutView",
            "align_content": null,
            "align_items": null,
            "align_self": null,
            "border": null,
            "bottom": null,
            "display": null,
            "flex": null,
            "flex_flow": null,
            "grid_area": null,
            "grid_auto_columns": null,
            "grid_auto_flow": null,
            "grid_auto_rows": null,
            "grid_column": null,
            "grid_gap": null,
            "grid_row": null,
            "grid_template_areas": null,
            "grid_template_columns": null,
            "grid_template_rows": null,
            "height": null,
            "justify_content": null,
            "justify_items": null,
            "left": null,
            "margin": null,
            "max_height": null,
            "max_width": null,
            "min_height": null,
            "min_width": null,
            "object_fit": null,
            "object_position": null,
            "order": null,
            "overflow": null,
            "overflow_x": null,
            "overflow_y": null,
            "padding": null,
            "right": null,
            "top": null,
            "visibility": null,
            "width": null
          }
        },
        "b2c6048f25c4473dbc177b01e07ad411": {
          "model_module": "@jupyter-widgets/controls",
          "model_name": "DescriptionStyleModel",
          "model_module_version": "1.5.0",
          "state": {
            "_model_module": "@jupyter-widgets/controls",
            "_model_module_version": "1.5.0",
            "_model_name": "DescriptionStyleModel",
            "_view_count": null,
            "_view_module": "@jupyter-widgets/base",
            "_view_module_version": "1.2.0",
            "_view_name": "StyleView",
            "description_width": ""
          }
        },
        "d3ba6cbac4e34a8b8e1c55e8c8a3fa8c": {
          "model_module": "@jupyter-widgets/base",
          "model_name": "LayoutModel",
          "model_module_version": "1.2.0",
          "state": {
            "_model_module": "@jupyter-widgets/base",
            "_model_module_version": "1.2.0",
            "_model_name": "LayoutModel",
            "_view_count": null,
            "_view_module": "@jupyter-widgets/base",
            "_view_module_version": "1.2.0",
            "_view_name": "LayoutView",
            "align_content": null,
            "align_items": null,
            "align_self": null,
            "border": null,
            "bottom": null,
            "display": null,
            "flex": null,
            "flex_flow": null,
            "grid_area": null,
            "grid_auto_columns": null,
            "grid_auto_flow": null,
            "grid_auto_rows": null,
            "grid_column": null,
            "grid_gap": null,
            "grid_row": null,
            "grid_template_areas": null,
            "grid_template_columns": null,
            "grid_template_rows": null,
            "height": null,
            "justify_content": null,
            "justify_items": null,
            "left": null,
            "margin": null,
            "max_height": null,
            "max_width": null,
            "min_height": null,
            "min_width": null,
            "object_fit": null,
            "object_position": null,
            "order": null,
            "overflow": null,
            "overflow_x": null,
            "overflow_y": null,
            "padding": null,
            "right": null,
            "top": null,
            "visibility": null,
            "width": null
          }
        },
        "8f1dd895888a4a7e9f2131fefd11e551": {
          "model_module": "@jupyter-widgets/controls",
          "model_name": "ProgressStyleModel",
          "model_module_version": "1.5.0",
          "state": {
            "_model_module": "@jupyter-widgets/controls",
            "_model_module_version": "1.5.0",
            "_model_name": "ProgressStyleModel",
            "_view_count": null,
            "_view_module": "@jupyter-widgets/base",
            "_view_module_version": "1.2.0",
            "_view_name": "StyleView",
            "bar_color": null,
            "description_width": ""
          }
        },
        "abebc2e88abd49d7a07ed3d3a1dc5493": {
          "model_module": "@jupyter-widgets/base",
          "model_name": "LayoutModel",
          "model_module_version": "1.2.0",
          "state": {
            "_model_module": "@jupyter-widgets/base",
            "_model_module_version": "1.2.0",
            "_model_name": "LayoutModel",
            "_view_count": null,
            "_view_module": "@jupyter-widgets/base",
            "_view_module_version": "1.2.0",
            "_view_name": "LayoutView",
            "align_content": null,
            "align_items": null,
            "align_self": null,
            "border": null,
            "bottom": null,
            "display": null,
            "flex": null,
            "flex_flow": null,
            "grid_area": null,
            "grid_auto_columns": null,
            "grid_auto_flow": null,
            "grid_auto_rows": null,
            "grid_column": null,
            "grid_gap": null,
            "grid_row": null,
            "grid_template_areas": null,
            "grid_template_columns": null,
            "grid_template_rows": null,
            "height": null,
            "justify_content": null,
            "justify_items": null,
            "left": null,
            "margin": null,
            "max_height": null,
            "max_width": null,
            "min_height": null,
            "min_width": null,
            "object_fit": null,
            "object_position": null,
            "order": null,
            "overflow": null,
            "overflow_x": null,
            "overflow_y": null,
            "padding": null,
            "right": null,
            "top": null,
            "visibility": null,
            "width": null
          }
        },
        "4ab004f4bf6248798ef99de496929b3b": {
          "model_module": "@jupyter-widgets/controls",
          "model_name": "DescriptionStyleModel",
          "model_module_version": "1.5.0",
          "state": {
            "_model_module": "@jupyter-widgets/controls",
            "_model_module_version": "1.5.0",
            "_model_name": "DescriptionStyleModel",
            "_view_count": null,
            "_view_module": "@jupyter-widgets/base",
            "_view_module_version": "1.2.0",
            "_view_name": "StyleView",
            "description_width": ""
          }
        },
        "35fe4c32e7064478be0eaa5d826f48fb": {
          "model_module": "@jupyter-widgets/controls",
          "model_name": "HBoxModel",
          "model_module_version": "1.5.0",
          "state": {
            "_dom_classes": [],
            "_model_module": "@jupyter-widgets/controls",
            "_model_module_version": "1.5.0",
            "_model_name": "HBoxModel",
            "_view_count": null,
            "_view_module": "@jupyter-widgets/controls",
            "_view_module_version": "1.5.0",
            "_view_name": "HBoxView",
            "box_style": "",
            "children": [
              "IPY_MODEL_e22b8975ec384dde9fedf4b6939c0124",
              "IPY_MODEL_e089ec67c747452eb61560abdf8d6f53",
              "IPY_MODEL_b0beabaa35e047ec8862e84e7c8d0e0d"
            ],
            "layout": "IPY_MODEL_f82a827f0e154ee0981045d0fbbcddcf"
          }
        },
        "e22b8975ec384dde9fedf4b6939c0124": {
          "model_module": "@jupyter-widgets/controls",
          "model_name": "HTMLModel",
          "model_module_version": "1.5.0",
          "state": {
            "_dom_classes": [],
            "_model_module": "@jupyter-widgets/controls",
            "_model_module_version": "1.5.0",
            "_model_name": "HTMLModel",
            "_view_count": null,
            "_view_module": "@jupyter-widgets/controls",
            "_view_module_version": "1.5.0",
            "_view_name": "HTMLView",
            "description": "",
            "description_tooltip": null,
            "layout": "IPY_MODEL_0a20260312be4beb8eaba6c01279bea5",
            "placeholder": "​",
            "style": "IPY_MODEL_ed3b448364a746388f621902df94627c",
            "value": "Map: 100%"
          }
        },
        "e089ec67c747452eb61560abdf8d6f53": {
          "model_module": "@jupyter-widgets/controls",
          "model_name": "FloatProgressModel",
          "model_module_version": "1.5.0",
          "state": {
            "_dom_classes": [],
            "_model_module": "@jupyter-widgets/controls",
            "_model_module_version": "1.5.0",
            "_model_name": "FloatProgressModel",
            "_view_count": null,
            "_view_module": "@jupyter-widgets/controls",
            "_view_module_version": "1.5.0",
            "_view_name": "ProgressView",
            "bar_style": "success",
            "description": "",
            "description_tooltip": null,
            "layout": "IPY_MODEL_f5b489760b4f4146bbb46cc83d570dee",
            "max": 124,
            "min": 0,
            "orientation": "horizontal",
            "style": "IPY_MODEL_ee5e056e1532425f8d7b98b61aac28a9",
            "value": 124
          }
        },
        "b0beabaa35e047ec8862e84e7c8d0e0d": {
          "model_module": "@jupyter-widgets/controls",
          "model_name": "HTMLModel",
          "model_module_version": "1.5.0",
          "state": {
            "_dom_classes": [],
            "_model_module": "@jupyter-widgets/controls",
            "_model_module_version": "1.5.0",
            "_model_name": "HTMLModel",
            "_view_count": null,
            "_view_module": "@jupyter-widgets/controls",
            "_view_module_version": "1.5.0",
            "_view_name": "HTMLView",
            "description": "",
            "description_tooltip": null,
            "layout": "IPY_MODEL_a4931e7edf5b4437804341b8dc8fdb3b",
            "placeholder": "​",
            "style": "IPY_MODEL_55a36b9f3c0349a8bb2b7c28f576a482",
            "value": " 124/124 [00:01&lt;00:00, 120.48 examples/s]"
          }
        },
        "f82a827f0e154ee0981045d0fbbcddcf": {
          "model_module": "@jupyter-widgets/base",
          "model_name": "LayoutModel",
          "model_module_version": "1.2.0",
          "state": {
            "_model_module": "@jupyter-widgets/base",
            "_model_module_version": "1.2.0",
            "_model_name": "LayoutModel",
            "_view_count": null,
            "_view_module": "@jupyter-widgets/base",
            "_view_module_version": "1.2.0",
            "_view_name": "LayoutView",
            "align_content": null,
            "align_items": null,
            "align_self": null,
            "border": null,
            "bottom": null,
            "display": null,
            "flex": null,
            "flex_flow": null,
            "grid_area": null,
            "grid_auto_columns": null,
            "grid_auto_flow": null,
            "grid_auto_rows": null,
            "grid_column": null,
            "grid_gap": null,
            "grid_row": null,
            "grid_template_areas": null,
            "grid_template_columns": null,
            "grid_template_rows": null,
            "height": null,
            "justify_content": null,
            "justify_items": null,
            "left": null,
            "margin": null,
            "max_height": null,
            "max_width": null,
            "min_height": null,
            "min_width": null,
            "object_fit": null,
            "object_position": null,
            "order": null,
            "overflow": null,
            "overflow_x": null,
            "overflow_y": null,
            "padding": null,
            "right": null,
            "top": null,
            "visibility": null,
            "width": null
          }
        },
        "0a20260312be4beb8eaba6c01279bea5": {
          "model_module": "@jupyter-widgets/base",
          "model_name": "LayoutModel",
          "model_module_version": "1.2.0",
          "state": {
            "_model_module": "@jupyter-widgets/base",
            "_model_module_version": "1.2.0",
            "_model_name": "LayoutModel",
            "_view_count": null,
            "_view_module": "@jupyter-widgets/base",
            "_view_module_version": "1.2.0",
            "_view_name": "LayoutView",
            "align_content": null,
            "align_items": null,
            "align_self": null,
            "border": null,
            "bottom": null,
            "display": null,
            "flex": null,
            "flex_flow": null,
            "grid_area": null,
            "grid_auto_columns": null,
            "grid_auto_flow": null,
            "grid_auto_rows": null,
            "grid_column": null,
            "grid_gap": null,
            "grid_row": null,
            "grid_template_areas": null,
            "grid_template_columns": null,
            "grid_template_rows": null,
            "height": null,
            "justify_content": null,
            "justify_items": null,
            "left": null,
            "margin": null,
            "max_height": null,
            "max_width": null,
            "min_height": null,
            "min_width": null,
            "object_fit": null,
            "object_position": null,
            "order": null,
            "overflow": null,
            "overflow_x": null,
            "overflow_y": null,
            "padding": null,
            "right": null,
            "top": null,
            "visibility": null,
            "width": null
          }
        },
        "ed3b448364a746388f621902df94627c": {
          "model_module": "@jupyter-widgets/controls",
          "model_name": "DescriptionStyleModel",
          "model_module_version": "1.5.0",
          "state": {
            "_model_module": "@jupyter-widgets/controls",
            "_model_module_version": "1.5.0",
            "_model_name": "DescriptionStyleModel",
            "_view_count": null,
            "_view_module": "@jupyter-widgets/base",
            "_view_module_version": "1.2.0",
            "_view_name": "StyleView",
            "description_width": ""
          }
        },
        "f5b489760b4f4146bbb46cc83d570dee": {
          "model_module": "@jupyter-widgets/base",
          "model_name": "LayoutModel",
          "model_module_version": "1.2.0",
          "state": {
            "_model_module": "@jupyter-widgets/base",
            "_model_module_version": "1.2.0",
            "_model_name": "LayoutModel",
            "_view_count": null,
            "_view_module": "@jupyter-widgets/base",
            "_view_module_version": "1.2.0",
            "_view_name": "LayoutView",
            "align_content": null,
            "align_items": null,
            "align_self": null,
            "border": null,
            "bottom": null,
            "display": null,
            "flex": null,
            "flex_flow": null,
            "grid_area": null,
            "grid_auto_columns": null,
            "grid_auto_flow": null,
            "grid_auto_rows": null,
            "grid_column": null,
            "grid_gap": null,
            "grid_row": null,
            "grid_template_areas": null,
            "grid_template_columns": null,
            "grid_template_rows": null,
            "height": null,
            "justify_content": null,
            "justify_items": null,
            "left": null,
            "margin": null,
            "max_height": null,
            "max_width": null,
            "min_height": null,
            "min_width": null,
            "object_fit": null,
            "object_position": null,
            "order": null,
            "overflow": null,
            "overflow_x": null,
            "overflow_y": null,
            "padding": null,
            "right": null,
            "top": null,
            "visibility": null,
            "width": null
          }
        },
        "ee5e056e1532425f8d7b98b61aac28a9": {
          "model_module": "@jupyter-widgets/controls",
          "model_name": "ProgressStyleModel",
          "model_module_version": "1.5.0",
          "state": {
            "_model_module": "@jupyter-widgets/controls",
            "_model_module_version": "1.5.0",
            "_model_name": "ProgressStyleModel",
            "_view_count": null,
            "_view_module": "@jupyter-widgets/base",
            "_view_module_version": "1.2.0",
            "_view_name": "StyleView",
            "bar_color": null,
            "description_width": ""
          }
        },
        "a4931e7edf5b4437804341b8dc8fdb3b": {
          "model_module": "@jupyter-widgets/base",
          "model_name": "LayoutModel",
          "model_module_version": "1.2.0",
          "state": {
            "_model_module": "@jupyter-widgets/base",
            "_model_module_version": "1.2.0",
            "_model_name": "LayoutModel",
            "_view_count": null,
            "_view_module": "@jupyter-widgets/base",
            "_view_module_version": "1.2.0",
            "_view_name": "LayoutView",
            "align_content": null,
            "align_items": null,
            "align_self": null,
            "border": null,
            "bottom": null,
            "display": null,
            "flex": null,
            "flex_flow": null,
            "grid_area": null,
            "grid_auto_columns": null,
            "grid_auto_flow": null,
            "grid_auto_rows": null,
            "grid_column": null,
            "grid_gap": null,
            "grid_row": null,
            "grid_template_areas": null,
            "grid_template_columns": null,
            "grid_template_rows": null,
            "height": null,
            "justify_content": null,
            "justify_items": null,
            "left": null,
            "margin": null,
            "max_height": null,
            "max_width": null,
            "min_height": null,
            "min_width": null,
            "object_fit": null,
            "object_position": null,
            "order": null,
            "overflow": null,
            "overflow_x": null,
            "overflow_y": null,
            "padding": null,
            "right": null,
            "top": null,
            "visibility": null,
            "width": null
          }
        },
        "55a36b9f3c0349a8bb2b7c28f576a482": {
          "model_module": "@jupyter-widgets/controls",
          "model_name": "DescriptionStyleModel",
          "model_module_version": "1.5.0",
          "state": {
            "_model_module": "@jupyter-widgets/controls",
            "_model_module_version": "1.5.0",
            "_model_name": "DescriptionStyleModel",
            "_view_count": null,
            "_view_module": "@jupyter-widgets/base",
            "_view_module_version": "1.2.0",
            "_view_name": "StyleView",
            "description_width": ""
          }
        },
        "bdcc293e18b441b6ad494e3c4207e1b1": {
          "model_module": "@jupyter-widgets/controls",
          "model_name": "HBoxModel",
          "model_module_version": "1.5.0",
          "state": {
            "_dom_classes": [],
            "_model_module": "@jupyter-widgets/controls",
            "_model_module_version": "1.5.0",
            "_model_name": "HBoxModel",
            "_view_count": null,
            "_view_module": "@jupyter-widgets/controls",
            "_view_module_version": "1.5.0",
            "_view_name": "HBoxView",
            "box_style": "",
            "children": [
              "IPY_MODEL_66d74911e24b4ff0acc78e9e727181f6",
              "IPY_MODEL_919b8c38415e490c8c0f9300936c7644",
              "IPY_MODEL_b7028cca5c8b40dab483765d0776b967"
            ],
            "layout": "IPY_MODEL_543d264b62184ac6ac7e7623e7a86375"
          }
        },
        "66d74911e24b4ff0acc78e9e727181f6": {
          "model_module": "@jupyter-widgets/controls",
          "model_name": "HTMLModel",
          "model_module_version": "1.5.0",
          "state": {
            "_dom_classes": [],
            "_model_module": "@jupyter-widgets/controls",
            "_model_module_version": "1.5.0",
            "_model_name": "HTMLModel",
            "_view_count": null,
            "_view_module": "@jupyter-widgets/controls",
            "_view_module_version": "1.5.0",
            "_view_name": "HTMLView",
            "description": "",
            "description_tooltip": null,
            "layout": "IPY_MODEL_d922d26cf2574a17bc4a8cd2ae9edd28",
            "placeholder": "​",
            "style": "IPY_MODEL_6e0f3f217bf14a5d97893c9794cc66ed",
            "value": "100%"
          }
        },
        "919b8c38415e490c8c0f9300936c7644": {
          "model_module": "@jupyter-widgets/controls",
          "model_name": "FloatProgressModel",
          "model_module_version": "1.5.0",
          "state": {
            "_dom_classes": [],
            "_model_module": "@jupyter-widgets/controls",
            "_model_module_version": "1.5.0",
            "_model_name": "FloatProgressModel",
            "_view_count": null,
            "_view_module": "@jupyter-widgets/controls",
            "_view_module_version": "1.5.0",
            "_view_name": "ProgressView",
            "bar_style": "success",
            "description": "",
            "description_tooltip": null,
            "layout": "IPY_MODEL_23e8b35e8efa466b9feface926ec1850",
            "max": 124,
            "min": 0,
            "orientation": "horizontal",
            "style": "IPY_MODEL_c900775d5bcd406489d2f6d3ebc173fb",
            "value": 124
          }
        },
        "b7028cca5c8b40dab483765d0776b967": {
          "model_module": "@jupyter-widgets/controls",
          "model_name": "HTMLModel",
          "model_module_version": "1.5.0",
          "state": {
            "_dom_classes": [],
            "_model_module": "@jupyter-widgets/controls",
            "_model_module_version": "1.5.0",
            "_model_name": "HTMLModel",
            "_view_count": null,
            "_view_module": "@jupyter-widgets/controls",
            "_view_module_version": "1.5.0",
            "_view_name": "HTMLView",
            "description": "",
            "description_tooltip": null,
            "layout": "IPY_MODEL_ee9f7d6baebc4d64ac58d651e728bcb9",
            "placeholder": "​",
            "style": "IPY_MODEL_be364ff7d8334577b677633074ffd43a",
            "value": " 124/124 [02:56&lt;00:00,  1.45s/it]"
          }
        },
        "543d264b62184ac6ac7e7623e7a86375": {
          "model_module": "@jupyter-widgets/base",
          "model_name": "LayoutModel",
          "model_module_version": "1.2.0",
          "state": {
            "_model_module": "@jupyter-widgets/base",
            "_model_module_version": "1.2.0",
            "_model_name": "LayoutModel",
            "_view_count": null,
            "_view_module": "@jupyter-widgets/base",
            "_view_module_version": "1.2.0",
            "_view_name": "LayoutView",
            "align_content": null,
            "align_items": null,
            "align_self": null,
            "border": null,
            "bottom": null,
            "display": null,
            "flex": null,
            "flex_flow": null,
            "grid_area": null,
            "grid_auto_columns": null,
            "grid_auto_flow": null,
            "grid_auto_rows": null,
            "grid_column": null,
            "grid_gap": null,
            "grid_row": null,
            "grid_template_areas": null,
            "grid_template_columns": null,
            "grid_template_rows": null,
            "height": null,
            "justify_content": null,
            "justify_items": null,
            "left": null,
            "margin": null,
            "max_height": null,
            "max_width": null,
            "min_height": null,
            "min_width": null,
            "object_fit": null,
            "object_position": null,
            "order": null,
            "overflow": null,
            "overflow_x": null,
            "overflow_y": null,
            "padding": null,
            "right": null,
            "top": null,
            "visibility": null,
            "width": null
          }
        },
        "d922d26cf2574a17bc4a8cd2ae9edd28": {
          "model_module": "@jupyter-widgets/base",
          "model_name": "LayoutModel",
          "model_module_version": "1.2.0",
          "state": {
            "_model_module": "@jupyter-widgets/base",
            "_model_module_version": "1.2.0",
            "_model_name": "LayoutModel",
            "_view_count": null,
            "_view_module": "@jupyter-widgets/base",
            "_view_module_version": "1.2.0",
            "_view_name": "LayoutView",
            "align_content": null,
            "align_items": null,
            "align_self": null,
            "border": null,
            "bottom": null,
            "display": null,
            "flex": null,
            "flex_flow": null,
            "grid_area": null,
            "grid_auto_columns": null,
            "grid_auto_flow": null,
            "grid_auto_rows": null,
            "grid_column": null,
            "grid_gap": null,
            "grid_row": null,
            "grid_template_areas": null,
            "grid_template_columns": null,
            "grid_template_rows": null,
            "height": null,
            "justify_content": null,
            "justify_items": null,
            "left": null,
            "margin": null,
            "max_height": null,
            "max_width": null,
            "min_height": null,
            "min_width": null,
            "object_fit": null,
            "object_position": null,
            "order": null,
            "overflow": null,
            "overflow_x": null,
            "overflow_y": null,
            "padding": null,
            "right": null,
            "top": null,
            "visibility": null,
            "width": null
          }
        },
        "6e0f3f217bf14a5d97893c9794cc66ed": {
          "model_module": "@jupyter-widgets/controls",
          "model_name": "DescriptionStyleModel",
          "model_module_version": "1.5.0",
          "state": {
            "_model_module": "@jupyter-widgets/controls",
            "_model_module_version": "1.5.0",
            "_model_name": "DescriptionStyleModel",
            "_view_count": null,
            "_view_module": "@jupyter-widgets/base",
            "_view_module_version": "1.2.0",
            "_view_name": "StyleView",
            "description_width": ""
          }
        },
        "23e8b35e8efa466b9feface926ec1850": {
          "model_module": "@jupyter-widgets/base",
          "model_name": "LayoutModel",
          "model_module_version": "1.2.0",
          "state": {
            "_model_module": "@jupyter-widgets/base",
            "_model_module_version": "1.2.0",
            "_model_name": "LayoutModel",
            "_view_count": null,
            "_view_module": "@jupyter-widgets/base",
            "_view_module_version": "1.2.0",
            "_view_name": "LayoutView",
            "align_content": null,
            "align_items": null,
            "align_self": null,
            "border": null,
            "bottom": null,
            "display": null,
            "flex": null,
            "flex_flow": null,
            "grid_area": null,
            "grid_auto_columns": null,
            "grid_auto_flow": null,
            "grid_auto_rows": null,
            "grid_column": null,
            "grid_gap": null,
            "grid_row": null,
            "grid_template_areas": null,
            "grid_template_columns": null,
            "grid_template_rows": null,
            "height": null,
            "justify_content": null,
            "justify_items": null,
            "left": null,
            "margin": null,
            "max_height": null,
            "max_width": null,
            "min_height": null,
            "min_width": null,
            "object_fit": null,
            "object_position": null,
            "order": null,
            "overflow": null,
            "overflow_x": null,
            "overflow_y": null,
            "padding": null,
            "right": null,
            "top": null,
            "visibility": null,
            "width": null
          }
        },
        "c900775d5bcd406489d2f6d3ebc173fb": {
          "model_module": "@jupyter-widgets/controls",
          "model_name": "ProgressStyleModel",
          "model_module_version": "1.5.0",
          "state": {
            "_model_module": "@jupyter-widgets/controls",
            "_model_module_version": "1.5.0",
            "_model_name": "ProgressStyleModel",
            "_view_count": null,
            "_view_module": "@jupyter-widgets/base",
            "_view_module_version": "1.2.0",
            "_view_name": "StyleView",
            "bar_color": null,
            "description_width": ""
          }
        },
        "ee9f7d6baebc4d64ac58d651e728bcb9": {
          "model_module": "@jupyter-widgets/base",
          "model_name": "LayoutModel",
          "model_module_version": "1.2.0",
          "state": {
            "_model_module": "@jupyter-widgets/base",
            "_model_module_version": "1.2.0",
            "_model_name": "LayoutModel",
            "_view_count": null,
            "_view_module": "@jupyter-widgets/base",
            "_view_module_version": "1.2.0",
            "_view_name": "LayoutView",
            "align_content": null,
            "align_items": null,
            "align_self": null,
            "border": null,
            "bottom": null,
            "display": null,
            "flex": null,
            "flex_flow": null,
            "grid_area": null,
            "grid_auto_columns": null,
            "grid_auto_flow": null,
            "grid_auto_rows": null,
            "grid_column": null,
            "grid_gap": null,
            "grid_row": null,
            "grid_template_areas": null,
            "grid_template_columns": null,
            "grid_template_rows": null,
            "height": null,
            "justify_content": null,
            "justify_items": null,
            "left": null,
            "margin": null,
            "max_height": null,
            "max_width": null,
            "min_height": null,
            "min_width": null,
            "object_fit": null,
            "object_position": null,
            "order": null,
            "overflow": null,
            "overflow_x": null,
            "overflow_y": null,
            "padding": null,
            "right": null,
            "top": null,
            "visibility": null,
            "width": null
          }
        },
        "be364ff7d8334577b677633074ffd43a": {
          "model_module": "@jupyter-widgets/controls",
          "model_name": "DescriptionStyleModel",
          "model_module_version": "1.5.0",
          "state": {
            "_model_module": "@jupyter-widgets/controls",
            "_model_module_version": "1.5.0",
            "_model_name": "DescriptionStyleModel",
            "_view_count": null,
            "_view_module": "@jupyter-widgets/base",
            "_view_module_version": "1.2.0",
            "_view_name": "StyleView",
            "description_width": ""
          }
        },
        "e1d3f376852e4e4ab85ee04a4097c0c3": {
          "model_module": "@jupyter-widgets/controls",
          "model_name": "HBoxModel",
          "model_module_version": "1.5.0",
          "state": {
            "_dom_classes": [],
            "_model_module": "@jupyter-widgets/controls",
            "_model_module_version": "1.5.0",
            "_model_name": "HBoxModel",
            "_view_count": null,
            "_view_module": "@jupyter-widgets/controls",
            "_view_module_version": "1.5.0",
            "_view_name": "HBoxView",
            "box_style": "",
            "children": [
              "IPY_MODEL_9160e5a03e814646800c1daad92eb627",
              "IPY_MODEL_c5cd3dae28fe4ea49ce27c20788e6013",
              "IPY_MODEL_2084d768f0be4a5b90fbbbaa1da9f240"
            ],
            "layout": "IPY_MODEL_8b88525a47944fc1b93c4bbdc46a9b17"
          }
        },
        "9160e5a03e814646800c1daad92eb627": {
          "model_module": "@jupyter-widgets/controls",
          "model_name": "HTMLModel",
          "model_module_version": "1.5.0",
          "state": {
            "_dom_classes": [],
            "_model_module": "@jupyter-widgets/controls",
            "_model_module_version": "1.5.0",
            "_model_name": "HTMLModel",
            "_view_count": null,
            "_view_module": "@jupyter-widgets/controls",
            "_view_module_version": "1.5.0",
            "_view_name": "HTMLView",
            "description": "",
            "description_tooltip": null,
            "layout": "IPY_MODEL_fa542d14c4e944f1b96b1056668fe5e5",
            "placeholder": "​",
            "style": "IPY_MODEL_1e3fd849be8e499180fc70ddb051c786",
            "value": "Downloading builder script: 100%"
          }
        },
        "c5cd3dae28fe4ea49ce27c20788e6013": {
          "model_module": "@jupyter-widgets/controls",
          "model_name": "FloatProgressModel",
          "model_module_version": "1.5.0",
          "state": {
            "_dom_classes": [],
            "_model_module": "@jupyter-widgets/controls",
            "_model_module_version": "1.5.0",
            "_model_name": "FloatProgressModel",
            "_view_count": null,
            "_view_module": "@jupyter-widgets/controls",
            "_view_module_version": "1.5.0",
            "_view_name": "ProgressView",
            "bar_style": "success",
            "description": "",
            "description_tooltip": null,
            "layout": "IPY_MODEL_235656e5f000426f9d3afc8a4bb3d015",
            "max": 6270,
            "min": 0,
            "orientation": "horizontal",
            "style": "IPY_MODEL_5b565943faad4e9396d6b41bc0ddfc46",
            "value": 6270
          }
        },
        "2084d768f0be4a5b90fbbbaa1da9f240": {
          "model_module": "@jupyter-widgets/controls",
          "model_name": "HTMLModel",
          "model_module_version": "1.5.0",
          "state": {
            "_dom_classes": [],
            "_model_module": "@jupyter-widgets/controls",
            "_model_module_version": "1.5.0",
            "_model_name": "HTMLModel",
            "_view_count": null,
            "_view_module": "@jupyter-widgets/controls",
            "_view_module_version": "1.5.0",
            "_view_name": "HTMLView",
            "description": "",
            "description_tooltip": null,
            "layout": "IPY_MODEL_7aaf0fa72d6b403eb9d2abd9eafe802a",
            "placeholder": "​",
            "style": "IPY_MODEL_234af34198db4ea59b1ed2f36b53e6f5",
            "value": " 6.27k/6.27k [00:00&lt;00:00, 183kB/s]"
          }
        },
        "8b88525a47944fc1b93c4bbdc46a9b17": {
          "model_module": "@jupyter-widgets/base",
          "model_name": "LayoutModel",
          "model_module_version": "1.2.0",
          "state": {
            "_model_module": "@jupyter-widgets/base",
            "_model_module_version": "1.2.0",
            "_model_name": "LayoutModel",
            "_view_count": null,
            "_view_module": "@jupyter-widgets/base",
            "_view_module_version": "1.2.0",
            "_view_name": "LayoutView",
            "align_content": null,
            "align_items": null,
            "align_self": null,
            "border": null,
            "bottom": null,
            "display": null,
            "flex": null,
            "flex_flow": null,
            "grid_area": null,
            "grid_auto_columns": null,
            "grid_auto_flow": null,
            "grid_auto_rows": null,
            "grid_column": null,
            "grid_gap": null,
            "grid_row": null,
            "grid_template_areas": null,
            "grid_template_columns": null,
            "grid_template_rows": null,
            "height": null,
            "justify_content": null,
            "justify_items": null,
            "left": null,
            "margin": null,
            "max_height": null,
            "max_width": null,
            "min_height": null,
            "min_width": null,
            "object_fit": null,
            "object_position": null,
            "order": null,
            "overflow": null,
            "overflow_x": null,
            "overflow_y": null,
            "padding": null,
            "right": null,
            "top": null,
            "visibility": null,
            "width": null
          }
        },
        "fa542d14c4e944f1b96b1056668fe5e5": {
          "model_module": "@jupyter-widgets/base",
          "model_name": "LayoutModel",
          "model_module_version": "1.2.0",
          "state": {
            "_model_module": "@jupyter-widgets/base",
            "_model_module_version": "1.2.0",
            "_model_name": "LayoutModel",
            "_view_count": null,
            "_view_module": "@jupyter-widgets/base",
            "_view_module_version": "1.2.0",
            "_view_name": "LayoutView",
            "align_content": null,
            "align_items": null,
            "align_self": null,
            "border": null,
            "bottom": null,
            "display": null,
            "flex": null,
            "flex_flow": null,
            "grid_area": null,
            "grid_auto_columns": null,
            "grid_auto_flow": null,
            "grid_auto_rows": null,
            "grid_column": null,
            "grid_gap": null,
            "grid_row": null,
            "grid_template_areas": null,
            "grid_template_columns": null,
            "grid_template_rows": null,
            "height": null,
            "justify_content": null,
            "justify_items": null,
            "left": null,
            "margin": null,
            "max_height": null,
            "max_width": null,
            "min_height": null,
            "min_width": null,
            "object_fit": null,
            "object_position": null,
            "order": null,
            "overflow": null,
            "overflow_x": null,
            "overflow_y": null,
            "padding": null,
            "right": null,
            "top": null,
            "visibility": null,
            "width": null
          }
        },
        "1e3fd849be8e499180fc70ddb051c786": {
          "model_module": "@jupyter-widgets/controls",
          "model_name": "DescriptionStyleModel",
          "model_module_version": "1.5.0",
          "state": {
            "_model_module": "@jupyter-widgets/controls",
            "_model_module_version": "1.5.0",
            "_model_name": "DescriptionStyleModel",
            "_view_count": null,
            "_view_module": "@jupyter-widgets/base",
            "_view_module_version": "1.2.0",
            "_view_name": "StyleView",
            "description_width": ""
          }
        },
        "235656e5f000426f9d3afc8a4bb3d015": {
          "model_module": "@jupyter-widgets/base",
          "model_name": "LayoutModel",
          "model_module_version": "1.2.0",
          "state": {
            "_model_module": "@jupyter-widgets/base",
            "_model_module_version": "1.2.0",
            "_model_name": "LayoutModel",
            "_view_count": null,
            "_view_module": "@jupyter-widgets/base",
            "_view_module_version": "1.2.0",
            "_view_name": "LayoutView",
            "align_content": null,
            "align_items": null,
            "align_self": null,
            "border": null,
            "bottom": null,
            "display": null,
            "flex": null,
            "flex_flow": null,
            "grid_area": null,
            "grid_auto_columns": null,
            "grid_auto_flow": null,
            "grid_auto_rows": null,
            "grid_column": null,
            "grid_gap": null,
            "grid_row": null,
            "grid_template_areas": null,
            "grid_template_columns": null,
            "grid_template_rows": null,
            "height": null,
            "justify_content": null,
            "justify_items": null,
            "left": null,
            "margin": null,
            "max_height": null,
            "max_width": null,
            "min_height": null,
            "min_width": null,
            "object_fit": null,
            "object_position": null,
            "order": null,
            "overflow": null,
            "overflow_x": null,
            "overflow_y": null,
            "padding": null,
            "right": null,
            "top": null,
            "visibility": null,
            "width": null
          }
        },
        "5b565943faad4e9396d6b41bc0ddfc46": {
          "model_module": "@jupyter-widgets/controls",
          "model_name": "ProgressStyleModel",
          "model_module_version": "1.5.0",
          "state": {
            "_model_module": "@jupyter-widgets/controls",
            "_model_module_version": "1.5.0",
            "_model_name": "ProgressStyleModel",
            "_view_count": null,
            "_view_module": "@jupyter-widgets/base",
            "_view_module_version": "1.2.0",
            "_view_name": "StyleView",
            "bar_color": null,
            "description_width": ""
          }
        },
        "7aaf0fa72d6b403eb9d2abd9eafe802a": {
          "model_module": "@jupyter-widgets/base",
          "model_name": "LayoutModel",
          "model_module_version": "1.2.0",
          "state": {
            "_model_module": "@jupyter-widgets/base",
            "_model_module_version": "1.2.0",
            "_model_name": "LayoutModel",
            "_view_count": null,
            "_view_module": "@jupyter-widgets/base",
            "_view_module_version": "1.2.0",
            "_view_name": "LayoutView",
            "align_content": null,
            "align_items": null,
            "align_self": null,
            "border": null,
            "bottom": null,
            "display": null,
            "flex": null,
            "flex_flow": null,
            "grid_area": null,
            "grid_auto_columns": null,
            "grid_auto_flow": null,
            "grid_auto_rows": null,
            "grid_column": null,
            "grid_gap": null,
            "grid_row": null,
            "grid_template_areas": null,
            "grid_template_columns": null,
            "grid_template_rows": null,
            "height": null,
            "justify_content": null,
            "justify_items": null,
            "left": null,
            "margin": null,
            "max_height": null,
            "max_width": null,
            "min_height": null,
            "min_width": null,
            "object_fit": null,
            "object_position": null,
            "order": null,
            "overflow": null,
            "overflow_x": null,
            "overflow_y": null,
            "padding": null,
            "right": null,
            "top": null,
            "visibility": null,
            "width": null
          }
        },
        "234af34198db4ea59b1ed2f36b53e6f5": {
          "model_module": "@jupyter-widgets/controls",
          "model_name": "DescriptionStyleModel",
          "model_module_version": "1.5.0",
          "state": {
            "_model_module": "@jupyter-widgets/controls",
            "_model_module_version": "1.5.0",
            "_model_name": "DescriptionStyleModel",
            "_view_count": null,
            "_view_module": "@jupyter-widgets/base",
            "_view_module_version": "1.2.0",
            "_view_name": "StyleView",
            "description_width": ""
          }
        }
      }
    }
  },
  "cells": [
    {
      "cell_type": "markdown",
      "metadata": {
        "id": "view-in-github",
        "colab_type": "text"
      },
      "source": [
        "<a href=\"https://colab.research.google.com/github/mhtabkrklt/NLP/blob/main/mahamat_nlp_hw3.ipynb\" target=\"_parent\"><img src=\"https://colab.research.google.com/assets/colab-badge.svg\" alt=\"Open In Colab\"/></a>"
      ]
    },
    {
      "cell_type": "code",
      "execution_count": null,
      "metadata": {
        "id": "rlJ8k-1zV4ts"
      },
      "outputs": [],
      "source": [
        "import pandas as pd\n",
        "from tqdm.auto import tqdm\n",
        "\n",
        "import torch\n",
        "import torch.nn as nn\n",
        "from torch.utils.data import DataLoader\n",
        "import numpy as np\n",
        "\n",
        "import matplotlib.pyplot as plt\n",
        "import seaborn as sns\n",
        "\n",
        "sns.set(palette='summer')"
      ]
    },
    {
      "cell_type": "code",
      "source": [
        "!pip install accelerate -U"
      ],
      "metadata": {
        "colab": {
          "base_uri": "https://localhost:8080/"
        },
        "id": "_rL-maZgV76A",
        "outputId": "dd484ede-5075-4535-8d78-eadd31e04842"
      },
      "execution_count": null,
      "outputs": [
        {
          "output_type": "stream",
          "name": "stdout",
          "text": [
            "Requirement already satisfied: accelerate in /usr/local/lib/python3.11/dist-packages (1.7.0)\n",
            "Requirement already satisfied: numpy<3.0.0,>=1.17 in /usr/local/lib/python3.11/dist-packages (from accelerate) (2.0.2)\n",
            "Requirement already satisfied: packaging>=20.0 in /usr/local/lib/python3.11/dist-packages (from accelerate) (24.2)\n",
            "Requirement already satisfied: psutil in /usr/local/lib/python3.11/dist-packages (from accelerate) (5.9.5)\n",
            "Requirement already satisfied: pyyaml in /usr/local/lib/python3.11/dist-packages (from accelerate) (6.0.2)\n",
            "Requirement already satisfied: torch>=2.0.0 in /usr/local/lib/python3.11/dist-packages (from accelerate) (2.6.0+cu124)\n",
            "Requirement already satisfied: huggingface-hub>=0.21.0 in /usr/local/lib/python3.11/dist-packages (from accelerate) (0.31.2)\n",
            "Requirement already satisfied: safetensors>=0.4.3 in /usr/local/lib/python3.11/dist-packages (from accelerate) (0.5.3)\n",
            "Requirement already satisfied: filelock in /usr/local/lib/python3.11/dist-packages (from huggingface-hub>=0.21.0->accelerate) (3.18.0)\n",
            "Requirement already satisfied: fsspec>=2023.5.0 in /usr/local/lib/python3.11/dist-packages (from huggingface-hub>=0.21.0->accelerate) (2025.3.2)\n",
            "Requirement already satisfied: requests in /usr/local/lib/python3.11/dist-packages (from huggingface-hub>=0.21.0->accelerate) (2.32.3)\n",
            "Requirement already satisfied: tqdm>=4.42.1 in /usr/local/lib/python3.11/dist-packages (from huggingface-hub>=0.21.0->accelerate) (4.67.1)\n",
            "Requirement already satisfied: typing-extensions>=3.7.4.3 in /usr/local/lib/python3.11/dist-packages (from huggingface-hub>=0.21.0->accelerate) (4.13.2)\n",
            "Requirement already satisfied: networkx in /usr/local/lib/python3.11/dist-packages (from torch>=2.0.0->accelerate) (3.4.2)\n",
            "Requirement already satisfied: jinja2 in /usr/local/lib/python3.11/dist-packages (from torch>=2.0.0->accelerate) (3.1.6)\n",
            "Requirement already satisfied: nvidia-cuda-nvrtc-cu12==12.4.127 in /usr/local/lib/python3.11/dist-packages (from torch>=2.0.0->accelerate) (12.4.127)\n",
            "Requirement already satisfied: nvidia-cuda-runtime-cu12==12.4.127 in /usr/local/lib/python3.11/dist-packages (from torch>=2.0.0->accelerate) (12.4.127)\n",
            "Requirement already satisfied: nvidia-cuda-cupti-cu12==12.4.127 in /usr/local/lib/python3.11/dist-packages (from torch>=2.0.0->accelerate) (12.4.127)\n",
            "Requirement already satisfied: nvidia-cudnn-cu12==9.1.0.70 in /usr/local/lib/python3.11/dist-packages (from torch>=2.0.0->accelerate) (9.1.0.70)\n",
            "Requirement already satisfied: nvidia-cublas-cu12==12.4.5.8 in /usr/local/lib/python3.11/dist-packages (from torch>=2.0.0->accelerate) (12.4.5.8)\n",
            "Requirement already satisfied: nvidia-cufft-cu12==11.2.1.3 in /usr/local/lib/python3.11/dist-packages (from torch>=2.0.0->accelerate) (11.2.1.3)\n",
            "Requirement already satisfied: nvidia-curand-cu12==10.3.5.147 in /usr/local/lib/python3.11/dist-packages (from torch>=2.0.0->accelerate) (10.3.5.147)\n",
            "Requirement already satisfied: nvidia-cusolver-cu12==11.6.1.9 in /usr/local/lib/python3.11/dist-packages (from torch>=2.0.0->accelerate) (11.6.1.9)\n",
            "Requirement already satisfied: nvidia-cusparse-cu12==12.3.1.170 in /usr/local/lib/python3.11/dist-packages (from torch>=2.0.0->accelerate) (12.3.1.170)\n",
            "Requirement already satisfied: nvidia-cusparselt-cu12==0.6.2 in /usr/local/lib/python3.11/dist-packages (from torch>=2.0.0->accelerate) (0.6.2)\n",
            "Requirement already satisfied: nvidia-nccl-cu12==2.21.5 in /usr/local/lib/python3.11/dist-packages (from torch>=2.0.0->accelerate) (2.21.5)\n",
            "Requirement already satisfied: nvidia-nvtx-cu12==12.4.127 in /usr/local/lib/python3.11/dist-packages (from torch>=2.0.0->accelerate) (12.4.127)\n",
            "Requirement already satisfied: nvidia-nvjitlink-cu12==12.4.127 in /usr/local/lib/python3.11/dist-packages (from torch>=2.0.0->accelerate) (12.4.127)\n",
            "Requirement already satisfied: triton==3.2.0 in /usr/local/lib/python3.11/dist-packages (from torch>=2.0.0->accelerate) (3.2.0)\n",
            "Requirement already satisfied: sympy==1.13.1 in /usr/local/lib/python3.11/dist-packages (from torch>=2.0.0->accelerate) (1.13.1)\n",
            "Requirement already satisfied: mpmath<1.4,>=1.1.0 in /usr/local/lib/python3.11/dist-packages (from sympy==1.13.1->torch>=2.0.0->accelerate) (1.3.0)\n",
            "Requirement already satisfied: MarkupSafe>=2.0 in /usr/local/lib/python3.11/dist-packages (from jinja2->torch>=2.0.0->accelerate) (3.0.2)\n",
            "Requirement already satisfied: charset-normalizer<4,>=2 in /usr/local/lib/python3.11/dist-packages (from requests->huggingface-hub>=0.21.0->accelerate) (3.4.2)\n",
            "Requirement already satisfied: idna<4,>=2.5 in /usr/local/lib/python3.11/dist-packages (from requests->huggingface-hub>=0.21.0->accelerate) (3.10)\n",
            "Requirement already satisfied: urllib3<3,>=1.21.1 in /usr/local/lib/python3.11/dist-packages (from requests->huggingface-hub>=0.21.0->accelerate) (2.4.0)\n",
            "Requirement already satisfied: certifi>=2017.4.17 in /usr/local/lib/python3.11/dist-packages (from requests->huggingface-hub>=0.21.0->accelerate) (2025.4.26)\n"
          ]
        }
      ]
    },
    {
      "cell_type": "code",
      "source": [
        "!pip install datasets"
      ],
      "metadata": {
        "colab": {
          "base_uri": "https://localhost:8080/"
        },
        "id": "g6q_dx0hV-PU",
        "outputId": "66214745-37ec-481a-a056-85c57f070ed7"
      },
      "execution_count": null,
      "outputs": [
        {
          "output_type": "stream",
          "name": "stdout",
          "text": [
            "Requirement already satisfied: datasets in /usr/local/lib/python3.11/dist-packages (2.14.4)\n",
            "Requirement already satisfied: numpy>=1.17 in /usr/local/lib/python3.11/dist-packages (from datasets) (2.0.2)\n",
            "Requirement already satisfied: pyarrow>=8.0.0 in /usr/local/lib/python3.11/dist-packages (from datasets) (18.1.0)\n",
            "Requirement already satisfied: dill<0.3.8,>=0.3.0 in /usr/local/lib/python3.11/dist-packages (from datasets) (0.3.7)\n",
            "Requirement already satisfied: pandas in /usr/local/lib/python3.11/dist-packages (from datasets) (2.2.2)\n",
            "Requirement already satisfied: requests>=2.19.0 in /usr/local/lib/python3.11/dist-packages (from datasets) (2.32.3)\n",
            "Requirement already satisfied: tqdm>=4.62.1 in /usr/local/lib/python3.11/dist-packages (from datasets) (4.67.1)\n",
            "Requirement already satisfied: xxhash in /usr/local/lib/python3.11/dist-packages (from datasets) (3.5.0)\n",
            "Requirement already satisfied: multiprocess in /usr/local/lib/python3.11/dist-packages (from datasets) (0.70.15)\n",
            "Requirement already satisfied: fsspec>=2021.11.1 in /usr/local/lib/python3.11/dist-packages (from fsspec[http]>=2021.11.1->datasets) (2025.3.2)\n",
            "Requirement already satisfied: aiohttp in /usr/local/lib/python3.11/dist-packages (from datasets) (3.11.15)\n",
            "Requirement already satisfied: huggingface-hub<1.0.0,>=0.14.0 in /usr/local/lib/python3.11/dist-packages (from datasets) (0.31.2)\n",
            "Requirement already satisfied: packaging in /usr/local/lib/python3.11/dist-packages (from datasets) (24.2)\n",
            "Requirement already satisfied: pyyaml>=5.1 in /usr/local/lib/python3.11/dist-packages (from datasets) (6.0.2)\n",
            "Requirement already satisfied: aiohappyeyeballs>=2.3.0 in /usr/local/lib/python3.11/dist-packages (from aiohttp->datasets) (2.6.1)\n",
            "Requirement already satisfied: aiosignal>=1.1.2 in /usr/local/lib/python3.11/dist-packages (from aiohttp->datasets) (1.3.2)\n",
            "Requirement already satisfied: attrs>=17.3.0 in /usr/local/lib/python3.11/dist-packages (from aiohttp->datasets) (25.3.0)\n",
            "Requirement already satisfied: frozenlist>=1.1.1 in /usr/local/lib/python3.11/dist-packages (from aiohttp->datasets) (1.6.0)\n",
            "Requirement already satisfied: multidict<7.0,>=4.5 in /usr/local/lib/python3.11/dist-packages (from aiohttp->datasets) (6.4.3)\n",
            "Requirement already satisfied: propcache>=0.2.0 in /usr/local/lib/python3.11/dist-packages (from aiohttp->datasets) (0.3.1)\n",
            "Requirement already satisfied: yarl<2.0,>=1.17.0 in /usr/local/lib/python3.11/dist-packages (from aiohttp->datasets) (1.20.0)\n",
            "Requirement already satisfied: filelock in /usr/local/lib/python3.11/dist-packages (from huggingface-hub<1.0.0,>=0.14.0->datasets) (3.18.0)\n",
            "Requirement already satisfied: typing-extensions>=3.7.4.3 in /usr/local/lib/python3.11/dist-packages (from huggingface-hub<1.0.0,>=0.14.0->datasets) (4.13.2)\n",
            "Requirement already satisfied: charset-normalizer<4,>=2 in /usr/local/lib/python3.11/dist-packages (from requests>=2.19.0->datasets) (3.4.2)\n",
            "Requirement already satisfied: idna<4,>=2.5 in /usr/local/lib/python3.11/dist-packages (from requests>=2.19.0->datasets) (3.10)\n",
            "Requirement already satisfied: urllib3<3,>=1.21.1 in /usr/local/lib/python3.11/dist-packages (from requests>=2.19.0->datasets) (2.4.0)\n",
            "Requirement already satisfied: certifi>=2017.4.17 in /usr/local/lib/python3.11/dist-packages (from requests>=2.19.0->datasets) (2025.4.26)\n",
            "Requirement already satisfied: python-dateutil>=2.8.2 in /usr/local/lib/python3.11/dist-packages (from pandas->datasets) (2.9.0.post0)\n",
            "Requirement already satisfied: pytz>=2020.1 in /usr/local/lib/python3.11/dist-packages (from pandas->datasets) (2025.2)\n",
            "Requirement already satisfied: tzdata>=2022.7 in /usr/local/lib/python3.11/dist-packages (from pandas->datasets) (2025.2)\n",
            "Requirement already satisfied: six>=1.5 in /usr/local/lib/python3.11/dist-packages (from python-dateutil>=2.8.2->pandas->datasets) (1.17.0)\n"
          ]
        }
      ]
    },
    {
      "cell_type": "code",
      "source": [
        "!pip install transformers"
      ],
      "metadata": {
        "colab": {
          "base_uri": "https://localhost:8080/"
        },
        "id": "m7j77_e8WDGL",
        "outputId": "a64bfbf3-9324-42ef-856e-2e6e383b7691"
      },
      "execution_count": null,
      "outputs": [
        {
          "output_type": "stream",
          "name": "stdout",
          "text": [
            "Requirement already satisfied: transformers in /usr/local/lib/python3.11/dist-packages (4.52.3)\n",
            "Requirement already satisfied: filelock in /usr/local/lib/python3.11/dist-packages (from transformers) (3.18.0)\n",
            "Requirement already satisfied: huggingface-hub<1.0,>=0.30.0 in /usr/local/lib/python3.11/dist-packages (from transformers) (0.31.2)\n",
            "Requirement already satisfied: numpy>=1.17 in /usr/local/lib/python3.11/dist-packages (from transformers) (2.0.2)\n",
            "Requirement already satisfied: packaging>=20.0 in /usr/local/lib/python3.11/dist-packages (from transformers) (24.2)\n",
            "Requirement already satisfied: pyyaml>=5.1 in /usr/local/lib/python3.11/dist-packages (from transformers) (6.0.2)\n",
            "Requirement already satisfied: regex!=2019.12.17 in /usr/local/lib/python3.11/dist-packages (from transformers) (2024.11.6)\n",
            "Requirement already satisfied: requests in /usr/local/lib/python3.11/dist-packages (from transformers) (2.32.3)\n",
            "Requirement already satisfied: tokenizers<0.22,>=0.21 in /usr/local/lib/python3.11/dist-packages (from transformers) (0.21.1)\n",
            "Requirement already satisfied: safetensors>=0.4.3 in /usr/local/lib/python3.11/dist-packages (from transformers) (0.5.3)\n",
            "Requirement already satisfied: tqdm>=4.27 in /usr/local/lib/python3.11/dist-packages (from transformers) (4.67.1)\n",
            "Requirement already satisfied: fsspec>=2023.5.0 in /usr/local/lib/python3.11/dist-packages (from huggingface-hub<1.0,>=0.30.0->transformers) (2025.3.2)\n",
            "Requirement already satisfied: typing-extensions>=3.7.4.3 in /usr/local/lib/python3.11/dist-packages (from huggingface-hub<1.0,>=0.30.0->transformers) (4.13.2)\n",
            "Requirement already satisfied: charset-normalizer<4,>=2 in /usr/local/lib/python3.11/dist-packages (from requests->transformers) (3.4.2)\n",
            "Requirement already satisfied: idna<4,>=2.5 in /usr/local/lib/python3.11/dist-packages (from requests->transformers) (3.10)\n",
            "Requirement already satisfied: urllib3<3,>=1.21.1 in /usr/local/lib/python3.11/dist-packages (from requests->transformers) (2.4.0)\n",
            "Requirement already satisfied: certifi>=2017.4.17 in /usr/local/lib/python3.11/dist-packages (from requests->transformers) (2025.4.26)\n"
          ]
        }
      ]
    },
    {
      "cell_type": "code",
      "source": [
        "!pip install evaluate"
      ],
      "metadata": {
        "colab": {
          "base_uri": "https://localhost:8080/"
        },
        "id": "lqNBY1fMWD_S",
        "outputId": "5f6faed8-3437-423a-ee25-d58b99f7b310"
      },
      "execution_count": null,
      "outputs": [
        {
          "output_type": "stream",
          "name": "stdout",
          "text": [
            "Requirement already satisfied: evaluate in /usr/local/lib/python3.11/dist-packages (0.4.3)\n",
            "Requirement already satisfied: datasets>=2.0.0 in /usr/local/lib/python3.11/dist-packages (from evaluate) (2.14.4)\n",
            "Requirement already satisfied: numpy>=1.17 in /usr/local/lib/python3.11/dist-packages (from evaluate) (2.0.2)\n",
            "Requirement already satisfied: dill in /usr/local/lib/python3.11/dist-packages (from evaluate) (0.3.7)\n",
            "Requirement already satisfied: pandas in /usr/local/lib/python3.11/dist-packages (from evaluate) (2.2.2)\n",
            "Requirement already satisfied: requests>=2.19.0 in /usr/local/lib/python3.11/dist-packages (from evaluate) (2.32.3)\n",
            "Requirement already satisfied: tqdm>=4.62.1 in /usr/local/lib/python3.11/dist-packages (from evaluate) (4.67.1)\n",
            "Requirement already satisfied: xxhash in /usr/local/lib/python3.11/dist-packages (from evaluate) (3.5.0)\n",
            "Requirement already satisfied: multiprocess in /usr/local/lib/python3.11/dist-packages (from evaluate) (0.70.15)\n",
            "Requirement already satisfied: fsspec>=2021.05.0 in /usr/local/lib/python3.11/dist-packages (from fsspec[http]>=2021.05.0->evaluate) (2025.3.2)\n",
            "Requirement already satisfied: huggingface-hub>=0.7.0 in /usr/local/lib/python3.11/dist-packages (from evaluate) (0.31.2)\n",
            "Requirement already satisfied: packaging in /usr/local/lib/python3.11/dist-packages (from evaluate) (24.2)\n",
            "Requirement already satisfied: pyarrow>=8.0.0 in /usr/local/lib/python3.11/dist-packages (from datasets>=2.0.0->evaluate) (18.1.0)\n",
            "Requirement already satisfied: aiohttp in /usr/local/lib/python3.11/dist-packages (from datasets>=2.0.0->evaluate) (3.11.15)\n",
            "Requirement already satisfied: pyyaml>=5.1 in /usr/local/lib/python3.11/dist-packages (from datasets>=2.0.0->evaluate) (6.0.2)\n",
            "Requirement already satisfied: filelock in /usr/local/lib/python3.11/dist-packages (from huggingface-hub>=0.7.0->evaluate) (3.18.0)\n",
            "Requirement already satisfied: typing-extensions>=3.7.4.3 in /usr/local/lib/python3.11/dist-packages (from huggingface-hub>=0.7.0->evaluate) (4.13.2)\n",
            "Requirement already satisfied: charset-normalizer<4,>=2 in /usr/local/lib/python3.11/dist-packages (from requests>=2.19.0->evaluate) (3.4.2)\n",
            "Requirement already satisfied: idna<4,>=2.5 in /usr/local/lib/python3.11/dist-packages (from requests>=2.19.0->evaluate) (3.10)\n",
            "Requirement already satisfied: urllib3<3,>=1.21.1 in /usr/local/lib/python3.11/dist-packages (from requests>=2.19.0->evaluate) (2.4.0)\n",
            "Requirement already satisfied: certifi>=2017.4.17 in /usr/local/lib/python3.11/dist-packages (from requests>=2.19.0->evaluate) (2025.4.26)\n",
            "Requirement already satisfied: python-dateutil>=2.8.2 in /usr/local/lib/python3.11/dist-packages (from pandas->evaluate) (2.9.0.post0)\n",
            "Requirement already satisfied: pytz>=2020.1 in /usr/local/lib/python3.11/dist-packages (from pandas->evaluate) (2025.2)\n",
            "Requirement already satisfied: tzdata>=2022.7 in /usr/local/lib/python3.11/dist-packages (from pandas->evaluate) (2025.2)\n",
            "Requirement already satisfied: aiohappyeyeballs>=2.3.0 in /usr/local/lib/python3.11/dist-packages (from aiohttp->datasets>=2.0.0->evaluate) (2.6.1)\n",
            "Requirement already satisfied: aiosignal>=1.1.2 in /usr/local/lib/python3.11/dist-packages (from aiohttp->datasets>=2.0.0->evaluate) (1.3.2)\n",
            "Requirement already satisfied: attrs>=17.3.0 in /usr/local/lib/python3.11/dist-packages (from aiohttp->datasets>=2.0.0->evaluate) (25.3.0)\n",
            "Requirement already satisfied: frozenlist>=1.1.1 in /usr/local/lib/python3.11/dist-packages (from aiohttp->datasets>=2.0.0->evaluate) (1.6.0)\n",
            "Requirement already satisfied: multidict<7.0,>=4.5 in /usr/local/lib/python3.11/dist-packages (from aiohttp->datasets>=2.0.0->evaluate) (6.4.3)\n",
            "Requirement already satisfied: propcache>=0.2.0 in /usr/local/lib/python3.11/dist-packages (from aiohttp->datasets>=2.0.0->evaluate) (0.3.1)\n",
            "Requirement already satisfied: yarl<2.0,>=1.17.0 in /usr/local/lib/python3.11/dist-packages (from aiohttp->datasets>=2.0.0->evaluate) (1.20.0)\n",
            "Requirement already satisfied: six>=1.5 in /usr/local/lib/python3.11/dist-packages (from python-dateutil>=2.8.2->pandas->evaluate) (1.17.0)\n"
          ]
        }
      ]
    },
    {
      "cell_type": "code",
      "source": [
        "import transformers\n",
        "from datasets import load_dataset\n",
        "import evaluate\n",
        "from sklearn.model_selection import train_test_split"
      ],
      "metadata": {
        "id": "n7euDJNcWGr4"
      },
      "execution_count": null,
      "outputs": []
    },
    {
      "cell_type": "code",
      "source": [
        "device = 'cuda' if torch.cuda.is_available() else 'cpu'\n",
        "device"
      ],
      "metadata": {
        "colab": {
          "base_uri": "https://localhost:8080/",
          "height": 35
        },
        "id": "ZVMqHciVWKN6",
        "outputId": "71253cef-eb81-4e7e-dec6-74dea215f268"
      },
      "execution_count": null,
      "outputs": [
        {
          "output_type": "execute_result",
          "data": {
            "text/plain": [
              "'cuda'"
            ],
            "application/vnd.google.colaboratory.intrinsic+json": {
              "type": "string"
            }
          },
          "metadata": {},
          "execution_count": 7
        }
      ]
    },
    {
      "cell_type": "markdown",
      "source": [
        "# Подготовка данных"
      ],
      "metadata": {
        "id": "Kw4QnqF6AXRx"
      }
    },
    {
      "cell_type": "code",
      "source": [
        "import pandas as pd\n",
        "\n",
        "splits = {'train': 'data/train-00000-of-00001.parquet', 'test': 'data/test-00000-of-00001.parquet', 'ca_test': 'data/ca_test-00000-of-00001.parquet'}\n",
        "billsum = pd.read_parquet(\"hf://datasets/FiscalNote/billsum/\" + splits[\"ca_test\"])\n",
        "billsum.head()"
      ],
      "metadata": {
        "colab": {
          "base_uri": "https://localhost:8080/",
          "height": 204
        },
        "id": "OxWhdFjymy2m",
        "outputId": "dc8e71b0-5bed-407b-cdfc-2fc64d9bdc36"
      },
      "execution_count": null,
      "outputs": [
        {
          "output_type": "execute_result",
          "data": {
            "text/plain": [
              "                                                text  \\\n",
              "0  The people of the State of California do enact...   \n",
              "1  The people of the State of California do enact...   \n",
              "2  The people of the State of California do enact...   \n",
              "3  The people of the State of California do enact...   \n",
              "4  The people of the State of California do enact...   \n",
              "\n",
              "                                             summary  \\\n",
              "0  Existing property tax law establishes a vetera...   \n",
              "1  Existing law provides that the Board of Parole...   \n",
              "2  The Sales and Use Tax Law imposes a tax on ret...   \n",
              "3  Existing law requires all moneys, except for f...   \n",
              "4  Existing law defines a request regarding resus...   \n",
              "\n",
              "                                               title  \n",
              "0  An act to amend Section 215.1 of the Revenue a...  \n",
              "1  An act to amend Section 3550 of, and to add Se...  \n",
              "2  An act\\nto add Chapter 3.8 (commencing with Se...  \n",
              "3  An act to amend Sections 75220, 75221, and 752...  \n",
              "4  An act to add and repeal Section 4788 of the P...  "
            ],
            "text/html": [
              "\n",
              "  <div id=\"df-c89bc355-38d2-43aa-90f9-b3d9a5195645\" class=\"colab-df-container\">\n",
              "    <div>\n",
              "<style scoped>\n",
              "    .dataframe tbody tr th:only-of-type {\n",
              "        vertical-align: middle;\n",
              "    }\n",
              "\n",
              "    .dataframe tbody tr th {\n",
              "        vertical-align: top;\n",
              "    }\n",
              "\n",
              "    .dataframe thead th {\n",
              "        text-align: right;\n",
              "    }\n",
              "</style>\n",
              "<table border=\"1\" class=\"dataframe\">\n",
              "  <thead>\n",
              "    <tr style=\"text-align: right;\">\n",
              "      <th></th>\n",
              "      <th>text</th>\n",
              "      <th>summary</th>\n",
              "      <th>title</th>\n",
              "    </tr>\n",
              "  </thead>\n",
              "  <tbody>\n",
              "    <tr>\n",
              "      <th>0</th>\n",
              "      <td>The people of the State of California do enact...</td>\n",
              "      <td>Existing property tax law establishes a vetera...</td>\n",
              "      <td>An act to amend Section 215.1 of the Revenue a...</td>\n",
              "    </tr>\n",
              "    <tr>\n",
              "      <th>1</th>\n",
              "      <td>The people of the State of California do enact...</td>\n",
              "      <td>Existing law provides that the Board of Parole...</td>\n",
              "      <td>An act to amend Section 3550 of, and to add Se...</td>\n",
              "    </tr>\n",
              "    <tr>\n",
              "      <th>2</th>\n",
              "      <td>The people of the State of California do enact...</td>\n",
              "      <td>The Sales and Use Tax Law imposes a tax on ret...</td>\n",
              "      <td>An act\\nto add Chapter 3.8 (commencing with Se...</td>\n",
              "    </tr>\n",
              "    <tr>\n",
              "      <th>3</th>\n",
              "      <td>The people of the State of California do enact...</td>\n",
              "      <td>Existing law requires all moneys, except for f...</td>\n",
              "      <td>An act to amend Sections 75220, 75221, and 752...</td>\n",
              "    </tr>\n",
              "    <tr>\n",
              "      <th>4</th>\n",
              "      <td>The people of the State of California do enact...</td>\n",
              "      <td>Existing law defines a request regarding resus...</td>\n",
              "      <td>An act to add and repeal Section 4788 of the P...</td>\n",
              "    </tr>\n",
              "  </tbody>\n",
              "</table>\n",
              "</div>\n",
              "    <div class=\"colab-df-buttons\">\n",
              "\n",
              "  <div class=\"colab-df-container\">\n",
              "    <button class=\"colab-df-convert\" onclick=\"convertToInteractive('df-c89bc355-38d2-43aa-90f9-b3d9a5195645')\"\n",
              "            title=\"Convert this dataframe to an interactive table.\"\n",
              "            style=\"display:none;\">\n",
              "\n",
              "  <svg xmlns=\"http://www.w3.org/2000/svg\" height=\"24px\" viewBox=\"0 -960 960 960\">\n",
              "    <path d=\"M120-120v-720h720v720H120Zm60-500h600v-160H180v160Zm220 220h160v-160H400v160Zm0 220h160v-160H400v160ZM180-400h160v-160H180v160Zm440 0h160v-160H620v160ZM180-180h160v-160H180v160Zm440 0h160v-160H620v160Z\"/>\n",
              "  </svg>\n",
              "    </button>\n",
              "\n",
              "  <style>\n",
              "    .colab-df-container {\n",
              "      display:flex;\n",
              "      gap: 12px;\n",
              "    }\n",
              "\n",
              "    .colab-df-convert {\n",
              "      background-color: #E8F0FE;\n",
              "      border: none;\n",
              "      border-radius: 50%;\n",
              "      cursor: pointer;\n",
              "      display: none;\n",
              "      fill: #1967D2;\n",
              "      height: 32px;\n",
              "      padding: 0 0 0 0;\n",
              "      width: 32px;\n",
              "    }\n",
              "\n",
              "    .colab-df-convert:hover {\n",
              "      background-color: #E2EBFA;\n",
              "      box-shadow: 0px 1px 2px rgba(60, 64, 67, 0.3), 0px 1px 3px 1px rgba(60, 64, 67, 0.15);\n",
              "      fill: #174EA6;\n",
              "    }\n",
              "\n",
              "    .colab-df-buttons div {\n",
              "      margin-bottom: 4px;\n",
              "    }\n",
              "\n",
              "    [theme=dark] .colab-df-convert {\n",
              "      background-color: #3B4455;\n",
              "      fill: #D2E3FC;\n",
              "    }\n",
              "\n",
              "    [theme=dark] .colab-df-convert:hover {\n",
              "      background-color: #434B5C;\n",
              "      box-shadow: 0px 1px 3px 1px rgba(0, 0, 0, 0.15);\n",
              "      filter: drop-shadow(0px 1px 2px rgba(0, 0, 0, 0.3));\n",
              "      fill: #FFFFFF;\n",
              "    }\n",
              "  </style>\n",
              "\n",
              "    <script>\n",
              "      const buttonEl =\n",
              "        document.querySelector('#df-c89bc355-38d2-43aa-90f9-b3d9a5195645 button.colab-df-convert');\n",
              "      buttonEl.style.display =\n",
              "        google.colab.kernel.accessAllowed ? 'block' : 'none';\n",
              "\n",
              "      async function convertToInteractive(key) {\n",
              "        const element = document.querySelector('#df-c89bc355-38d2-43aa-90f9-b3d9a5195645');\n",
              "        const dataTable =\n",
              "          await google.colab.kernel.invokeFunction('convertToInteractive',\n",
              "                                                    [key], {});\n",
              "        if (!dataTable) return;\n",
              "\n",
              "        const docLinkHtml = 'Like what you see? Visit the ' +\n",
              "          '<a target=\"_blank\" href=https://colab.research.google.com/notebooks/data_table.ipynb>data table notebook</a>'\n",
              "          + ' to learn more about interactive tables.';\n",
              "        element.innerHTML = '';\n",
              "        dataTable['output_type'] = 'display_data';\n",
              "        await google.colab.output.renderOutput(dataTable, element);\n",
              "        const docLink = document.createElement('div');\n",
              "        docLink.innerHTML = docLinkHtml;\n",
              "        element.appendChild(docLink);\n",
              "      }\n",
              "    </script>\n",
              "  </div>\n",
              "\n",
              "\n",
              "    <div id=\"df-8a66fea2-7dac-4baa-9640-189cd0c59524\">\n",
              "      <button class=\"colab-df-quickchart\" onclick=\"quickchart('df-8a66fea2-7dac-4baa-9640-189cd0c59524')\"\n",
              "                title=\"Suggest charts\"\n",
              "                style=\"display:none;\">\n",
              "\n",
              "<svg xmlns=\"http://www.w3.org/2000/svg\" height=\"24px\"viewBox=\"0 0 24 24\"\n",
              "     width=\"24px\">\n",
              "    <g>\n",
              "        <path d=\"M19 3H5c-1.1 0-2 .9-2 2v14c0 1.1.9 2 2 2h14c1.1 0 2-.9 2-2V5c0-1.1-.9-2-2-2zM9 17H7v-7h2v7zm4 0h-2V7h2v10zm4 0h-2v-4h2v4z\"/>\n",
              "    </g>\n",
              "</svg>\n",
              "      </button>\n",
              "\n",
              "<style>\n",
              "  .colab-df-quickchart {\n",
              "      --bg-color: #E8F0FE;\n",
              "      --fill-color: #1967D2;\n",
              "      --hover-bg-color: #E2EBFA;\n",
              "      --hover-fill-color: #174EA6;\n",
              "      --disabled-fill-color: #AAA;\n",
              "      --disabled-bg-color: #DDD;\n",
              "  }\n",
              "\n",
              "  [theme=dark] .colab-df-quickchart {\n",
              "      --bg-color: #3B4455;\n",
              "      --fill-color: #D2E3FC;\n",
              "      --hover-bg-color: #434B5C;\n",
              "      --hover-fill-color: #FFFFFF;\n",
              "      --disabled-bg-color: #3B4455;\n",
              "      --disabled-fill-color: #666;\n",
              "  }\n",
              "\n",
              "  .colab-df-quickchart {\n",
              "    background-color: var(--bg-color);\n",
              "    border: none;\n",
              "    border-radius: 50%;\n",
              "    cursor: pointer;\n",
              "    display: none;\n",
              "    fill: var(--fill-color);\n",
              "    height: 32px;\n",
              "    padding: 0;\n",
              "    width: 32px;\n",
              "  }\n",
              "\n",
              "  .colab-df-quickchart:hover {\n",
              "    background-color: var(--hover-bg-color);\n",
              "    box-shadow: 0 1px 2px rgba(60, 64, 67, 0.3), 0 1px 3px 1px rgba(60, 64, 67, 0.15);\n",
              "    fill: var(--button-hover-fill-color);\n",
              "  }\n",
              "\n",
              "  .colab-df-quickchart-complete:disabled,\n",
              "  .colab-df-quickchart-complete:disabled:hover {\n",
              "    background-color: var(--disabled-bg-color);\n",
              "    fill: var(--disabled-fill-color);\n",
              "    box-shadow: none;\n",
              "  }\n",
              "\n",
              "  .colab-df-spinner {\n",
              "    border: 2px solid var(--fill-color);\n",
              "    border-color: transparent;\n",
              "    border-bottom-color: var(--fill-color);\n",
              "    animation:\n",
              "      spin 1s steps(1) infinite;\n",
              "  }\n",
              "\n",
              "  @keyframes spin {\n",
              "    0% {\n",
              "      border-color: transparent;\n",
              "      border-bottom-color: var(--fill-color);\n",
              "      border-left-color: var(--fill-color);\n",
              "    }\n",
              "    20% {\n",
              "      border-color: transparent;\n",
              "      border-left-color: var(--fill-color);\n",
              "      border-top-color: var(--fill-color);\n",
              "    }\n",
              "    30% {\n",
              "      border-color: transparent;\n",
              "      border-left-color: var(--fill-color);\n",
              "      border-top-color: var(--fill-color);\n",
              "      border-right-color: var(--fill-color);\n",
              "    }\n",
              "    40% {\n",
              "      border-color: transparent;\n",
              "      border-right-color: var(--fill-color);\n",
              "      border-top-color: var(--fill-color);\n",
              "    }\n",
              "    60% {\n",
              "      border-color: transparent;\n",
              "      border-right-color: var(--fill-color);\n",
              "    }\n",
              "    80% {\n",
              "      border-color: transparent;\n",
              "      border-right-color: var(--fill-color);\n",
              "      border-bottom-color: var(--fill-color);\n",
              "    }\n",
              "    90% {\n",
              "      border-color: transparent;\n",
              "      border-bottom-color: var(--fill-color);\n",
              "    }\n",
              "  }\n",
              "</style>\n",
              "\n",
              "      <script>\n",
              "        async function quickchart(key) {\n",
              "          const quickchartButtonEl =\n",
              "            document.querySelector('#' + key + ' button');\n",
              "          quickchartButtonEl.disabled = true;  // To prevent multiple clicks.\n",
              "          quickchartButtonEl.classList.add('colab-df-spinner');\n",
              "          try {\n",
              "            const charts = await google.colab.kernel.invokeFunction(\n",
              "                'suggestCharts', [key], {});\n",
              "          } catch (error) {\n",
              "            console.error('Error during call to suggestCharts:', error);\n",
              "          }\n",
              "          quickchartButtonEl.classList.remove('colab-df-spinner');\n",
              "          quickchartButtonEl.classList.add('colab-df-quickchart-complete');\n",
              "        }\n",
              "        (() => {\n",
              "          let quickchartButtonEl =\n",
              "            document.querySelector('#df-8a66fea2-7dac-4baa-9640-189cd0c59524 button');\n",
              "          quickchartButtonEl.style.display =\n",
              "            google.colab.kernel.accessAllowed ? 'block' : 'none';\n",
              "        })();\n",
              "      </script>\n",
              "    </div>\n",
              "\n",
              "    </div>\n",
              "  </div>\n"
            ],
            "application/vnd.google.colaboratory.intrinsic+json": {
              "type": "dataframe",
              "variable_name": "billsum",
              "summary": "{\n  \"name\": \"billsum\",\n  \"rows\": 1237,\n  \"fields\": [\n    {\n      \"column\": \"text\",\n      \"properties\": {\n        \"dtype\": \"string\",\n        \"num_unique_values\": 1235,\n        \"samples\": [\n          \"The people of the State of California do enact as follows:\\n\\n\\nSECTION 1.\\nSection 1250 of the Health and Safety Code is amended to read:\\n1250.\\nAs used in this chapter, \\u201chealth facility\\u201d means a facility, place, or building that is organized, maintained, and operated for the diagnosis, care, prevention, and treatment of human illness, physical or mental, including convalescence and rehabilitation and including care during and after pregnancy, or for any one or more of these purposes, for one or more persons, to which the persons are admitted for a 24-hour stay or longer, and includes the following types:\\n(a) \\u201cGeneral acute care hospital\\u201d means a health facility having a duly constituted governing body with overall administrative and professional responsibility and an organized medical staff that provides 24-hour inpatient care, including the following basic services: medical, nursing, surgical, anesthesia, laboratory, radiology, pharmacy, and dietary services. A general acute care hospital may include more than one physical plant maintained and operated on separate premises as provided in Section 1250.8. A general acute care hospital that exclusively provides acute medical rehabilitation center services, including at least physical therapy, occupational therapy, and speech therapy, may provide for the required surgical and anesthesia services through a contract with another acute care hospital. In addition, a general acute care hospital that, on July 1, 1983, provided required surgical and anesthesia services through a contract or agreement with another acute care hospital may continue to provide these surgical and anesthesia services through a contract or agreement with an acute care hospital. The general acute care hospital operated by the State Department of Developmental Services at Agnews Developmental Center may, until June 30, 2007, provide surgery and anesthesia services through a contract or agreement with another acute care hospital. Notwithstanding the requirements of this subdivision, a general acute care hospital operated by the Department of Corrections and Rehabilitation or the Department of Veterans Affairs may provide surgery and anesthesia services during normal weekday working hours, and not provide these services during other hours of the weekday or on weekends or holidays, if the general acute care hospital otherwise meets the requirements of this section.\\nA \\u201cgeneral acute care hospital\\u201d includes a \\u201crural general acute care hospital.\\u201d However, a \\u201crural general acute care hospital\\u201d shall not be required by the department to provide surgery and anesthesia services. A \\u201crural general acute care hospital\\u201d shall meet either of the following conditions:\\n(1) The hospital meets criteria for designation within peer group six or eight, as defined in the report entitled Hospital Peer Grouping for Efficiency Comparison, dated December 20, 1982.\\n(2) The hospital meets the criteria for designation within peer group five or seven, as defined in the report entitled Hospital Peer Grouping for Efficiency Comparison, dated December 20, 1982, and has no more than 76 acute care beds and is located in a census dwelling place of 15,000 or less population according to the 1980 federal census.\\n(b) \\u201cAcute psychiatric hospital\\u201d means a health facility having a duly constituted governing body with overall administrative and professional responsibility and an organized medical staff that provides 24-hour inpatient care for persons with mental health disorders or other patients referred to in Division 5 (commencing with Section 5000) or Division 6 (commencing with Section 6000) of the Welfare and Institutions Code, including the following basic services: medical, nursing, rehabilitative, pharmacy, and dietary services.\\n(c) (1) \\u201cSkilled nursing facility\\u201d means a health facility that provides skilled nursing care and supportive care to patients whose primary need is for availability of skilled nursing care on an extended basis.\\n(2) \\u201cSkilled nursing facility\\u201d includes a \\u201csmall house skilled nursing facility (SHSNF),\\u201d as defined in Section 1323.5.\\n(d) \\u201cIntermediate care facility\\u201d means a health facility that provides inpatient care to ambulatory or nonambulatory patients who have recurring need for skilled nursing supervision and need supportive care, but who do not require availability of continuous skilled nursing care.\\n(e) \\u201cIntermediate care facility/developmentally disabled habilitative\\u201d means a facility with a capacity of 4 to 15 beds that provides 24-hour personal care, habilitation, developmental, and supportive health services to 15 or fewer persons with developmental disabilities who have intermittent recurring needs for nursing services, but have been certified by a physician and surgeon as not requiring availability of continuous skilled nursing care.\\n(f) \\u201cSpecial hospital\\u201d means a health facility having a duly constituted governing body with overall administrative and professional responsibility and an organized medical or dental staff that provides inpatient or outpatient care in dentistry or maternity.\\n(g) \\u201cIntermediate care facility/developmentally disabled\\u201d means a facility that provides 24-hour personal care, habilitation, developmental, and supportive health services to persons with developmental disabilities whose primary need is for developmental services and who have a recurring but intermittent need for skilled nursing services.\\n(h) \\u201cIntermediate care facility/developmentally disabled-nursing\\u201d means a facility with a capacity of 4 to 15 beds that provides 24-hour personal care, developmental services, and nursing supervision for persons with developmental disabilities who have intermittent recurring needs for skilled nursing care but have been certified by a physician and surgeon as not requiring continuous skilled nursing care. The facility shall serve medically fragile persons with developmental disabilities or who demonstrate significant developmental delay that may lead to a developmental disability if not treated.\\n(i) (1) \\u201cCongregate living health facility\\u201d means a residential home with a capacity, except as provided in paragraph (4), of no more than 18 beds, that provides inpatient care, including the following basic services: medical supervision, 24-hour skilled nursing and supportive care, pharmacy, dietary, social, recreational, and at least one type of service specified in paragraph (2). The primary need of congregate living health facility residents shall be for availability of skilled nursing care on a recurring, intermittent, extended, or continuous basis. This care is generally less intense than that provided in general acute care hospitals but more intense than that provided in skilled nursing facilities.\\n(2) Congregate living health facilities shall provide one or more of the following services:\\n(A) Services for persons who are mentally alert, persons with physical disabilities, who may be ventilator dependent.\\n(B) Services for persons who have a diagnosis of terminal illness, a diagnosis of a life-threatening illness, or both. Terminal illness means the individual has a life expectancy of six months or less as stated in writing by his or her attending physician and surgeon. A \\u201clife-threatening illness\\u201d means the individual has an illness that can lead to a possibility of a termination of life within five years or less as stated in writing by his or her attending physician and surgeon.\\n(C) Services for persons who are catastrophically and severely disabled. A person who is catastrophically and severely disabled means a person whose origin of disability was acquired through trauma or nondegenerative neurologic illness, for whom it has been determined that active rehabilitation would be beneficial and to whom these services are being provided. Services offered by a congregate living health facility to a person who is catastrophically disabled shall include, but not be limited to, speech, physical, and occupational therapy.\\n(3) A congregate living health facility license shall specify which of the types of persons described in paragraph (2) to whom a facility is licensed to provide services.\\n(4) (A) A facility operated by a city and county for the purposes of delivering services under this section may have a capacity of 59 beds.\\n(B) A congregate living health facility not operated by a city and county servicing persons who are terminally ill, persons who have been diagnosed with a life-threatening illness, or both, that is located in a county with a population of 500,000 or more persons, or located in a county of the 16th class pursuant to Section 28020 of the Government Code, may have not more than 25 beds for the purpose of serving persons who are terminally ill.\\n(5) A congregate living health facility shall have a noninstitutional, homelike environment.\\n(j) (1) \\u201cCorrectional treatment center\\u201d means a health facility operated by the Department of Corrections and Rehabilitation, the Department of Corrections and Rehabilitation, Division of Juvenile Facilities, or a county, city, or city and county law enforcement agency that, as determined by the department, provides inpatient health services to that portion of the inmate population who do not require a general acute care level of basic services. This definition shall not apply to those areas of a law enforcement facility that houses inmates or wards who may be receiving outpatient services and are housed separately for reasons of improved access to health care, security, and protection. The health services provided by a correctional treatment center shall include, but are not limited to, all of the following basic services: physician and surgeon, psychiatrist, psychologist, nursing, pharmacy, and dietary. A correctional treatment center may provide the following services: laboratory, radiology, perinatal, and any other services approved by the department.\\n(2) Outpatient surgical care with anesthesia may be provided, if the correctional treatment center meets the same requirements as a surgical clinic licensed pursuant to Section 1204, with the exception of the requirement that patients remain less than 24 hours.\\n(3) Correctional treatment centers shall maintain written service agreements with general acute care hospitals to provide for those inmate physical health needs that cannot be met by the correctional treatment center.\\n(4) Physician and surgeon services shall be readily available in a correctional treatment center on a 24-hour basis.\\n(5) It is not the intent of the Legislature to have a correctional treatment center supplant the general acute care hospitals at the California Medical Facility, the California Men\\u2019s Colony, and the California Institution for Men. This subdivision shall not be construed to prohibit the Department of Corrections and Rehabilitation from obtaining a correctional treatment center license at these sites.\\n(k) \\u201cNursing facility\\u201d means a health facility licensed pursuant to this chapter that is certified to participate as a provider of care either as a skilled nursing facility in the federal Medicare Program under Title XVIII of the federal Social Security Act (42 U.S.C. Sec. 1395 et seq.) or as a nursing facility in the federal Medicaid Program under Title XIX of the federal Social Security Act (42 U.S.C. Sec. 1396 et seq.), or as both.\\n(l) Regulations defining a correctional treatment center described in subdivision (j) that is operated by a county, city, or city and county, the Department of Corrections and Rehabilitation, or the Department of Corrections and Rehabilitation, Division of Juvenile Facilities, shall not become effective prior to, or, if effective, shall be inoperative until January 1, 1996, and until that time these correctional facilities are exempt from any licensing requirements.\\n(m) \\u201cIntermediate care facility/developmentally disabled-continuous nursing (ICF/DD-CN)\\u201d means a homelike facility with a capacity of four to eight, inclusive, beds that provides 24-hour personal care, developmental services, and nursing supervision for persons with developmental disabilities who have continuous needs for skilled nursing care and have been certified by a physician and surgeon as warranting continuous skilled nursing care. The facility shall serve medically fragile persons who have developmental disabilities or demonstrate significant developmental delay that may lead to a developmental disability if not treated. ICF/DD-CN facilities shall be subject to licensure under this chapter upon adoption of licensing regulations in accordance with Section 1275.3. A facility providing continuous skilled nursing services to persons with developmental disabilities pursuant to Section 14132.20 or 14495.10 of the Welfare and Institutions Code shall apply for licensure under this subdivision within 90 days after the regulations become effective, and may continue to operate pursuant to those sections until its licensure application is either approved or denied.\\n(n) \\u201cHospice facility\\u201d means a health facility licensed pursuant to this chapter with a capacity of no more than 24 beds that provides hospice services. Hospice services include, but are not limited to, routine care, continuous care, inpatient respite care, and inpatient hospice care as defined in subdivision (d) of Section 1339.40, and is operated by a provider of hospice services that is licensed pursuant to Section 1751 and certified as a hospice pursuant to Part 418 of Title 42 of the Code of Federal Regulations.\\nSEC. 2.\\nNo reimbursement is required by this act pursuant to Section 6 of Article XIII\\u2009B of the California Constitution because the only costs that may be incurred by a local agency or school district will be incurred because this act creates a new crime or infraction, eliminates a crime or infraction, or changes the penalty for a crime or infraction, within the meaning of Section 17556 of the Government Code, or changes the definition of a crime within the meaning of Section 6 of Article XIII\\u2009B of the California Constitution.\\nSEC. 3.\\nThis act is an urgency statute necessary for the immediate preservation of the public peace, health, or safety within the meaning of Article IV of the Constitution and shall go into immediate effect. The facts constituting the necessity are:\\nIn order to immediately ensure that eligible patients of congregate living health facilities are able to obtain essential care, and to enable these facilities to provide care for patients currently on a waiting list, it is necessary that this act take effect immediately.\",\n          \"The people of the State of California do enact as follows:\\n\\n\\nSECTION 1.\\nIt is the intent of the Legislature that the County of Sacramento notify and consult with the Amador County Transportation Commission, the Counties of Amador, Calaveras, and Alpine, the Cities of Plymouth, Amador City, Sutter Creek, and Jackson, and other relevant parties about any proposed relinquishment of Route 16 to the County of Sacramento as provided in this act.\\nSEC. 2.\\nSection 316 of the Streets and Highways Code is amended to read:\\n316.\\n(a) Route 16 is from:\\n(1) Route 20 to Route 5 near Woodland via Rumsey and Woodland.\\n(2) Route 50 near Perkins to Route 49 near Drytown.\\n(b) Upon a determination by the commission that it is in the best interests of the state to do so, the commission may, upon terms and conditions approved by it, relinquish to the City of Sacramento the portion of Route 16 that is located within the city limits of that city if the city agrees to accept it. The following conditions shall apply upon relinquishment:\\n(1) The relinquishment shall become effective on the date following the county recorder\\u2019s recordation of the relinquishment resolution containing the commission\\u2019s approval of the terms and conditions of the relinquishment.\\n(2) On and after the effective date of the relinquishment, the relinquished portion of Route 16 shall cease to be a state highway.\\n(3) The portion of Route 16 relinquished under this subdivision shall be ineligible for future adoption under Section 81.\\n(4) For the portion of Route 16 relinquished under this subdivision, the City of Sacramento shall apply for approval of a business route designation for the relinquished portion of the highway in accordance with Chapter 20, Topic 21, of the Highway Design Manual.\\n(5) For the portion of Route 16 relinquished under this subdivision, the City of Sacramento shall install and maintain within its jurisdiction signs directing motorists to the continuation of Route 16 to the east.\\n(6) The City of Sacramento shall maintain the Surface Transportation Assistance Act (STAA) truck route designation for the portion of Route 16 relinquished that previously held that designation.\\n(c) (1) Upon a determination by the commission that it is in the best interests of the state to do so, the commission may, upon terms and conditions approved by it, relinquish to the County of Sacramento the portion of Route 16 that is within the unincorporated area of the county and between the general easterly city limits of the City of Sacramento, approximately post mile 3.3, and 0.2 miles east of Grant Line Road, approximately post mile 12.7, if the county agrees to accept it.\\n(2) The following conditions shall apply upon relinquishment:\\n(A) The relinquishment shall become effective on the date following the county recorder\\u2019s recordation of the relinquishment resolution containing the commission\\u2019s approval of the terms and conditions of the relinquishment.\\n(B) On and after the effective date of the relinquishment, the relinquished portion of Route 16 shall cease to be a state highway.\\n(C) The portion of Route 16 relinquished under this subdivision shall be ineligible for future adoption under Section 81.\\n(D) For the portion of Route 16 relinquished under this subdivision, the County of Sacramento shall apply for approval of a business route designation for the relinquished portion of the highway in accordance with Chapter 20, Topic 21, of the Highway Design Manual.\\n(E) For the portion of Route 16 relinquished under this subdivision, the County of Sacramento shall install and maintain within its jurisdiction signs directing motorists to the continuation of Route 16 to the east.\\n(F) The County of Sacramento shall maintain the STAA truck route designation for the portion of Route 16 relinquished that previously held that designation.\\n(G) The County of Sacramento shall ensure the continuity of traffic flow on the relinquished portion of Route 16 within its jurisdiction, including, but not limited to, any traffic signal progression.\\n(H) Any relinquishment agreement shall require that the County of Sacramento administer the operation and maintenance of the roadway in a manner that is consistent with professional traffic engineering standards.\\n(I) Any relinquishment agreement shall require the County of Sacramento to ensure that appropriate traffic studies or analyses will be performed to substantiate decisions affecting traffic on the roadway.\\n(d) Upon a determination by the commission that it is in the best interests of the state to do so, the commission may, upon terms and conditions approved by it, relinquish to the City of Rancho Cordova the portion of Route 16 that is within the city limits of the city between Sunrise Boulevard, approximately post mile 11.5, and Grant Line Road, approximately post mile 12.5, if the city agrees to accept it. The following conditions shall apply upon relinquishment:\\n(1) The relinquishment shall become effective on the date following the county recorder\\u2019s recordation of the relinquishment resolution containing the commission\\u2019s approval of the terms and conditions of the relinquishment.\\n(2) On and after the effective date of the relinquishment, the relinquished portion of Route 16 shall cease to be a state highway.\\n(3) The portion of Route 16 relinquished under this subdivision shall be ineligible for future adoption under Section 81.\\n(4) For the portion of Route 16 relinquished under this subdivision, the City of Rancho Cordova shall apply for approval of a business route designation for the relinquished portion of the highway in accordance with Chapter 20, Topic 21, of the Highway Design Manual.\",\n          \"The people of the State of California do enact as follows:\\n\\n\\nSECTION 1.\\nIt is the intent of the Legislature that unencumbered restitution funds awarded to the state from a lawsuit involving Corinthian Colleges, Inc., and its affiliate institutions, including Heald College, shall be used to repay any funds provided to students pursuant to this act.\\nSEC. 2.\\nSection 69433.61 is added to the Education Code, to read:\\n69433.61.\\n(a) Notwithstanding any other law, a student who was enrolled and received a Cal Grant award in the 2013\\u201314 or 2014\\u201315 academic year at a California campus of Heald College, and was unable to complete an educational program offered by the campus due to the campus\\u2019 closure on April 27, 2015, shall not have the award years used at a Heald College campus considered for purposes of the limitation on the number of years of Cal Grant award eligibility. This restoration of award years for Cal Grant eligibility shall not exceed two years.\\n(b) A student shall be eligible for the restoration of award years if the student was enrolled at a campus of Heald College on April 27, 2015, or withdrew from enrollment between July 1, 2014, and April 27, 2015. The Bureau for Private Postsecondary Education shall provide the commission with information, if available, to confirm student enrollment for purposes of this section.\\n(c) An eligible student shall, before January 1, 2017, notify the commission of his or her intent to use the restoration of award years provided under this section and to enroll in an institution eligible for initial and renewal Cal Grant awards to be eligible for that restoration.\\nSEC. 3.\\nSection 69999.19 is added to the Education Code, to read:\\n69999.19.\\n(a) Notwithstanding any other law, a student who was enrolled and received a California National Guard Education Assistance Award in the 2013\\u201314 or 2014\\u201315 academic year at a California campus of Heald College, and was unable to complete an educational program offered by the campus due to the campus\\u2019 closure on April 27, 2015, shall not have the award years used at a Heald College campus considered for purposes of the limitation on the number of years of California National Guard Education Assistance Award eligibility. This restoration of award years for California National Guard Education Assistance Award eligibility shall not exceed two years.\\n(b) A student shall be eligible for the restoration of award years if the student was enrolled at a campus of Heald College on April 27, 2015, or withdrew from enrollment between July 1, 2014, and April 27, 2015. The Bureau for Private Postsecondary Education shall provide the commission with information, if available, to confirm student enrollment for purposes of this section.\\n(c) An eligible student shall, before January 1, 2017, notify the commission of his or her intent to use the restoration of award years provided under this section and to enroll in an institution eligible for initial and renewal California National Guard Education Assistance Awards to be eligible for that restoration.\\nSEC. 4.\\nSection 94051 is added to the Education Code, to read:\\n94051.\\nNotwithstanding any provision of law, for a period not to exceed two years from the date of the closure of Corinthian Colleges, Inc., a state agency that provides certification, registration, or licensure necessary to promote the safety and protection of the public may, on a case-by-case basis, consider for certification, registration, or licensure students who were enrolled in a program of Corinthian Colleges, Inc., that provided education or training aimed towards these students receiving certification, registration, or licensure from the state agency, and who did not receive that certification, registration, or licensure due to the closure of Corinthian Colleges, Inc. This consideration shall be provided at the discretion of the state agency in accordance with its public protection mandate and applicable criteria established by the agency for consumer safety.\\nSEC. 5.\\nSection 94925 of the Education Code is amended to read:\\n94925.\\n(a) The amount in the Student Tuition Recovery Fund shall not exceed thirty million dollars ($30,000,000) at any time.\\n(b) If the bureau has temporarily stopped collecting the Student Tuition Recovery Fund assessments because the fund has approached the thirty million dollar (30,000,000) limit in subdivision (a), the bureau shall resume collecting Student Tuition Recovery Fund assessments when the fund falls below twenty million dollars ($20,000,000).\\n(c) An otherwise eligible student who enrolled during a period when institutions were not required to collect Student Tuition Recovery Fund assessments is eligible for Student Tuition Recovery Fund payments despite not having paid any Student Tuition Recovery Fund assessment.\\nSEC. 6.\\nSection 94926.5 is added to the Education Code, to read:\\n94926.5.\\n(a) The Legislature finds and declares all of the following:\\n(1) Corinthian Colleges, Inc., has been the target of consumer and taxpayer protection enforcement efforts by the federal government, the Attorney General, and other state and federal authorities.\\n(2) Based on findings of harm to students enrolled at Corinthian Colleges, Inc., campuses, the United States Department of Education has announced debt relief programs to assist students, including all of the following:\\n(A) A student who attended a Corinthian Colleges, Inc., campus that closed on April 27, 2015, and withdrew any time after June 20, 2014, is eligible to apply for a closed school loan discharge, so long as the student does not transfer earned credit and subsequently complete a comparable program at another institution.\\n(B) A student who believes he or she was a victim of fraud or other violations of state law by Corinthian Colleges, Inc., can apply for debt relief under borrower defense to repayment. The United States Department of Education has determined that Corinthian Colleges, Inc., misrepresented job placement rates for a majority of programs at its Heald College campuses between 2010 and 2014 and is in the process of establishing a specific process for federal loan discharge for these Heald students.\\n(C) A Corinthian student who intends to submit a borrower defense claim may request loan forbearance while a claims review process is established and his or her claim is reviewed.\\n(3) Pursuant to Section 94923, the Student Tuition Recovery Fund exists to relieve or mitigate a student\\u2019s economic loss caused by a documented violation of certain laws or by institutional closure, as specified.\\n(4) On October 10, 2013, the Attorney General filed a lawsuit against Corinthian Colleges, Inc., for false and predatory advertising, intentional misrepresentations to students, securities fraud, and unlawful use of military seals in advertisements, in violation of the 2007 final judgment of the Los Angeles Superior Court in the People of the State of California v. Corinthian Schools, Inc.\\n(5) On April 16, 2015, the bureau issued an emergency decision ordering Corinthian Colleges, Inc., to cease enrollment of any new students in all programs at Everest College and WyoTech locations in California effective upon close of business April 23, 2015.\\n(6) It is consistent with the purpose of the Student Tuition Recovery Fund to provide assistance to Corinthian Colleges, Inc., students to obtain federal and private loan discharge and other financial aid relief.\\n(b) Upon appropriation by the Legislature, in response to the student harm caused by the practices and unlawful closure of Corinthian Colleges, Inc., grant funds shall be timely provided in accordance with this section to eligible nonprofit community service organizations, to assist the eligible students of that closed institution, including veterans, by relieving or mitigating the economic and educational opportunity loss incurred by eligible students of that institution.\\n(c) Services provided by eligible nonprofit community services organizations shall include assistance with loan discharge and other student financial aid, veterans education benefits, loan-related relief, and tuition recovery-related claims. Assistance may include, but is not limited to, outreach and education, screening requests for assistance, referring students for additional legal assistance through pro bono referral programs, and legal services.\\n(d) The terms and conditions of the grant agreements shall ensure that grant funds are used for the exclusive purpose of assisting eligible students with federal and private loan discharge and other financial aid relief, and that students eligible to claim recovery through the Student Tuition Recovery Fund are referred to the bureau for assistance with claim processing.\\n(e) For purposes of this section, an \\u201celigible nonprofit community service organization\\u201d is an organization that satisfies all of the following conditions:\\n(1) The organization is a 501(c)(3) tax-exempt organization in good standing with the Internal Revenue Service and in compliance with all applicable laws and requirements.\\n(2) The organization demonstrates expertise in assisting students with, and currently provides free direct legal services to students for, or will work in partnership with or under the supervision of an attorney or a nonprofit legal services organization that has demonstrated expertise in assisting students with, student loan and tuition recovery-related matters.\\n(3) The organization does not charge students for services, including services provided pursuant to this section.\\n(f) For purposes of this section, an \\u201celigible student\\u201d is a student who was enrolled at a California campus of, or a California student who was enrolled in an online campus of, a Corinthian Colleges, Inc., institution, and who is eligible to apply for debt relief from the United States Department of Education or other student financial aid relief.\\n(g) (1) The bureau shall notify the Attorney General of all unlawful Corinthian Colleges, Inc., closures within 15 days of the effective date of this section.\\n(2) The notification shall include the name and location of the school, the programs, and the number of students affected at each site of the school, as appropriate. The bureau shall provide the Attorney General with all additional information that the Attorney General may request, provided that the bureau has access to the requested information.\\n(3) The Attorney General shall, within 90 days of receipt of the notification, solicit grant applications from eligible nonprofit community service organizations as described in subdivision (e), select one or more of these organizations from among the applicants who are deemed to be qualified by the Attorney General, set additional terms and conditions of the grants as necessary, and notify the bureau and the recipient organization or organizations of the selection and the share of grant funds available that the organization shall receive. The Attorney General may enter into a contract with another qualified entity to perform the Attorney General\\u2019s duties under this subdivision.\\n(h) An eligible nonprofit community service organization that receives funds pursuant to this section shall enter into a grant agreement with the Attorney General, or a qualified entity entrusted with this authority pursuant to paragraph (3) of subdivision (g), as applicable, and shall use grant funds exclusively for the purposes set forth in this section in accordance with the agreement. Any unused funds shall be returned to the Attorney General, for return to the Student Tuition Recovery Fund. The Attorney General, or a contracted qualified entity, may terminate the grant agreement for material breach, and may require repayment of funds provided to the nonprofit community service organization during the time that the agreement was being materially breached. However, the Attorney General, or a qualified entity, shall provide the grantee with written notice of the breach and a reasonable opportunity of not less than 30 days to resolve the breach.\\n(i) An eligible nonprofit community service organization that receives a grant may give priority to low-income students if demand exceeds available grant funds. Otherwise, the organization may provide assistance regardless of student income level.\\n(j) (1) An eligible nonprofit community service organization that receives a grant shall report to the Attorney General, or a qualified entity pursuant to paragraph (3) of subdivision (g), as applicable, quarterly through the grant period on all of the following:\\n(A) The number of eligible students served pursuant to the grant agreement.\\n(B) A detailed summary of services provided to those students.\\n(C) The number of Student Tuition Recovery Fund claims referred to the bureau.\\n(D) The number of federal loan forgiveness claims filed and the number of those claims approved, denied, and pending.\\n(E) Any other information that is deemed appropriate by the Attorney General or qualified entity, as applicable.\\n(2) The Attorney General or qualified entity, as applicable, shall make the reports submitted pursuant to paragraph (1) available to the Legislature and the bureau upon request.\\n(3) The Attorney General or qualified entity, as applicable, shall provide the Legislature and the bureau a final report summarizing the information submitted pursuant to paragraph (1) promptly following the time when all funds are expended by the grantees or by August 1, 2018, whichever is earlier.\\n(k) Funds shall be distributed to preapproved nonprofit community service organizations as follows:\\n(1) Fifty percent shall be distributed to the grantee within 30 days of the grantee entering into a grant agreement.\\n(2) Twenty-five percent shall be distributed to the grantee upon the submission of the grantee\\u2019s second quarterly report.\\n(3) Twenty-five percent shall be distributed to the grantee upon the submission of the grantee\\u2019s third quarterly report.\\n(l) Eligible nonprofit community service organizations may use grant funds received pursuant to this section to pay the costs of assisting eligible students who have been served after the date of closure until June 30, 2018, or until any later date as may be determined necessary by the Attorney General.\\n(m) The adoption of any regulation pursuant to this section shall be deemed to be an emergency and necessary for the immediate preservation of the public health and safety, or general welfare.\\nSEC. 7.\\n(a) The sum of one million three hundred thousand dollars ($1,300,000) is hereby appropriated from the Student Tuition Recovery Fund to the Attorney General for the purposes of providing grants pursuant to Section 94926.5 of the Education Code, and to pay an amount not to exceed one hundred fifty thousand dollars ($150,000) for the reasonable administrative costs of the Attorney General\\u2019s office related to these grants.\\nSEC. 8.\\nThis act is an urgency statute necessary for the immediate preservation of the public peace, health, or safety within the meaning of Article IV of the Constitution and shall go into immediate effect. The facts constituting the necessity are:\\nIn order to provide immediate educational and economic relief to the thousands of students harmed by the closure of Corinthian Colleges, Inc., it is necessary for this act to take effect immediately.\"\n        ],\n        \"semantic_type\": \"\",\n        \"description\": \"\"\n      }\n    },\n    {\n      \"column\": \"summary\",\n      \"properties\": {\n        \"dtype\": \"string\",\n        \"num_unique_values\": 1233,\n        \"samples\": [\n          \"Existing property tax law authorizes the board of supervisors of a county to provide that every assessee or person liable for taxes on any taxable property whose property was damaged or destroyed without his or her fault may apply for reassessment of that property, as provided. To be eligible for reassessment, existing law requires that the damage or destruction of the property be caused by specified circumstances, including a major misfortune or calamity in an area or region subsequently proclaimed by the Governor to be in a state of disaster.\\nThis bill would additionally authorize the board of supervisors of a county to provide for reassessment of property destroyed or damaged by a major misfortune or calamity in an area or region subsequently proclaimed by the Governor to be in a state of emergency. The bill would specify that \\u201cdamage\\u201d includes a diminution in the value of property as a result of environmental contamination. The bill would also provide that the amendments made by its provisions would apply retroactively to property located in the Porter Ranch neighborhood in the City of Los Angeles that was affected by the methane gas leak in that area in 2015 and 2016 and that, with respect to these properties, the application for reassessment may be filed within 12 months of the enactment of this bill or within the time specified in the ordinance, whichever is later. The bill would specify that these provisions do not alter existing law regarding claims or defenses related to diminution of property values or establish a presumption that property values have declined or that any property is in any way \\u201cdamaged or destroyed\\u201d or otherwise \\u201ccontaminated\\u201d for purposes of a civil action related to the methane gas leak in the Porter Ranch neighborhood.\\nExisting law requires the assessed value of the property in its damaged condition, determined as specified, to be the taxable value of the property until it is restored, repaired, reconstructed, or other provisions of the law require the establishment of a new base year value. Existing law, if partial reconstruction, restoration, or repair has occurred on any subsequent lien date, requires the taxable value to be increased by a specified amount.\\nThis bill, for property destroyed or damaged in an area or region proclaimed by the Governor to be in a state of emergency, on the 3rd lien date following the calamity, if partial reconstruction, restoration, or repair is not progressing in a timely fashion, would require the assessed value of the property to be determined, as specified.\\nThis bill would make legislative findings and declarations as to the necessity of a special statute for the County of Los Angeles.\\nThis bill would declare that it is to take effect immediately as an urgency statute.\",\n          \"Existing law provides for the regulation of specified insurance products, including group life insurance, by the Insurance Commissioner. Existing law provides that insurance under a group life insurance policy may be extended to insure the dependents of each insured employee under the group policy, as specified. Existing law defines a dependent for these purposes as including the employee\\u2019s spouse and all children from birth until 26 years of age, or a child 26 years of age or older who is both incapable of self-sustaining employment by reason of intellectual disability or physical handicap and chiefly dependent upon the employee for support and maintenance, as specified.\\nThis bill would clarify that for dependent children over the age of majority the group policyholder would be authorized to elect coverage at age variations up to the limiting age.\\nExisting law defines a waiver of premium benefit or a waiver of monthly deduction benefit under a life insurance contract as a supplemental benefit that operates to safeguard a life insurance contract against lapse when the insured becomes totally disabled, as defined by the supplemental benefit, and continues until the end of the insured\\u2019s disability or the period specified by the supplemental benefit, consistent with specified restrictions. Existing law requires, if the insured\\u2019s total disability begins before the insured attains 60 years of age, the insurer to waive all premiums or monthly deductions due for the period that the insured continues to be totally disabled. Existing law requires, if the insured\\u2019s total disability begins when the insured is 60 years of age or older, the insurer to waive all premiums or monthly deductions due for the period that the insured continues to be totally disabled up to 65 years of age.\\nThis bill would require an insurer, for an insured who becomes totally disabled before attaining 60 years of age and is covered by a group life insurance policy that includes a supplemental benefit, to waive all premiums or monthly deductions due for the period of total disability up to the time the insured attains 65 years of age. The bill would also permit an insurer to collect premiums or monthly deductions from an insured who becomes totally disabled on or after 60 years of age and is covered by a group life insurance policy that includes a supplemental benefit. The bill would require an insurer offering a renewal for a group life insurance policy issued prior to January 1, 2017, that contains a supplemental benefit to offer the employer a continuation of the in-force supplemental benefit, and would authorize the insurer to concurrently offer the group policyholder the option to change the supplemental benefit to either waive or collect premiums or monthly deductions as described above.\",\n          \"Existing law, the Ortiz-Pacheco-Poochigian-Vasconcellos Cal Grant Program, establishes the Cal Grant A and B Entitlement awards, the California Community College Transfer Cal Grant Entitlement awards, the Competitive Cal Grant A and B awards, the Cal Grant C awards, and the Cal Grant T awards under the administration of the Student Aid Commission, and establishes eligibility requirements for awards under these programs for participating students attending qualifying institutions.\\nUnder the California Community College Transfer Cal Grant Entitlement Program, a student who transfers from a California community college to a qualifying institution that offers a baccalaureate degree and who was not awarded a Cal Grant A or B Entitlement award, receives a Cal Grant A or B award if, at the time of the transfer, the student meets specified requirements, among which is a requirement that the student not be 28 years of age or older by December 31 of the award year.\\nThis bill would provide that the requirement that a student not be 28 years or older by December 31 of the award year, as described above, would not apply to a current or former member of the Armed Forces of the United States, as defined, who was seeking a Cal Grant A or B award under this provision, unless he or she is a former member who received a dishonorable or bad conduct discharge. The bill would prohibit a qualifying institution from accepting award funds under the California Community College Transfer Cal Grant Entitlement Program and Title 38 of the United States Code in the same award year for a current or former member of the Armed Forces of the United States who is 28 years of age or older.\"\n        ],\n        \"semantic_type\": \"\",\n        \"description\": \"\"\n      }\n    },\n    {\n      \"column\": \"title\",\n      \"properties\": {\n        \"dtype\": \"string\",\n        \"num_unique_values\": 1201,\n        \"samples\": [\n          \"An act to add Part 16 (commencing with Section 54000) to Division 31 of the Health and Safety Code, relating to housing, by providing the funds necessary therefor through an election for the issuance and sale of bonds of the State of California and for the handling and disposition of those funds, and declaring the urgency thereof, to take effect immediately.\",\n          \"An act to amend\\nSection 19605\\nSections 19605 and 19620.2\\nof the Business and Professions Code,\\nand to amend Section 3200 of the Food and Agricultural Code,\\nrelating to horse\\nracing.\\nracing, and making an appropriation therefor.\",\n          \"An act to amend Sections 905.2, 8590.6, and 15820.946 of, and to add Section 15820.947 to, the Government Code, and to amend Section 37001.5 of, and to repeal Section 43011.3 of, the Health and Safety Code, relating to state government, and making an appropriation therefor, to take effect immediately, bill related to the budget.\"\n        ],\n        \"semantic_type\": \"\",\n        \"description\": \"\"\n      }\n    }\n  ]\n}"
            }
          },
          "metadata": {},
          "execution_count": 22
        }
      ]
    },
    {
      "cell_type": "code",
      "source": [
        "len(billsum)"
      ],
      "metadata": {
        "colab": {
          "base_uri": "https://localhost:8080/"
        },
        "id": "Y4_K-TWwWVYE",
        "outputId": "01680a70-bfc8-4d30-e3bf-932bbd7505b9"
      },
      "execution_count": null,
      "outputs": [
        {
          "output_type": "execute_result",
          "data": {
            "text/plain": [
              "1237"
            ]
          },
          "metadata": {},
          "execution_count": 23
        }
      ]
    },
    {
      "cell_type": "markdown",
      "source": [],
      "metadata": {
        "id": "fwzzciNvrPuA"
      }
    },
    {
      "cell_type": "code",
      "source": [
        "from datasets import Dataset\n",
        "billsum = Dataset.from_pandas(billsum)"
      ],
      "metadata": {
        "id": "uqkkR-dMxkmw"
      },
      "execution_count": null,
      "outputs": []
    },
    {
      "cell_type": "code",
      "source": [
        "billsum = billsum.train_test_split(test_size=0.1)"
      ],
      "metadata": {
        "id": "9WbkUugS2FTI"
      },
      "execution_count": null,
      "outputs": []
    },
    {
      "cell_type": "code",
      "source": [
        "billsum"
      ],
      "metadata": {
        "colab": {
          "base_uri": "https://localhost:8080/"
        },
        "id": "RPE9NZP_WZK5",
        "outputId": "2eb47d07-351a-42a3-9a54-d3daa99b2eb2"
      },
      "execution_count": null,
      "outputs": [
        {
          "output_type": "execute_result",
          "data": {
            "text/plain": [
              "DatasetDict({\n",
              "    train: Dataset({\n",
              "        features: ['text', 'summary', 'title'],\n",
              "        num_rows: 1113\n",
              "    })\n",
              "    test: Dataset({\n",
              "        features: ['text', 'summary', 'title'],\n",
              "        num_rows: 124\n",
              "    })\n",
              "})"
            ]
          },
          "metadata": {},
          "execution_count": 26
        }
      ]
    },
    {
      "cell_type": "code",
      "source": [
        "# Загрузка предобученного токенизатора для модели BART-bas\n",
        "tokenizer = transformers.AutoTokenizer.from_pretrained(\"ainize/bart-base-cnn\")"
      ],
      "metadata": {
        "id": "yAJQnYPfXHlG"
      },
      "execution_count": null,
      "outputs": []
    },
    {
      "cell_type": "code",
      "source": [
        "print(type(billsum))"
      ],
      "metadata": {
        "colab": {
          "base_uri": "https://localhost:8080/"
        },
        "id": "WJ4ZaIYbzTaJ",
        "outputId": "f5f6174a-5ace-4cb6-a866-80c240aaefe6"
      },
      "execution_count": null,
      "outputs": [
        {
          "output_type": "stream",
          "name": "stdout",
          "text": [
            "<class 'datasets.dataset_dict.DatasetDict'>\n"
          ]
        }
      ]
    },
    {
      "cell_type": "code",
      "source": [
        "def preprocess_function(examples):\n",
        "    model_inputs = tokenizer(examples[\"text\"], max_length=1024, truncation=True)\n",
        "\n",
        "    labels = tokenizer(text_target=examples[\"summary\"], max_length=128, truncation=True)\n",
        "\n",
        "    model_inputs[\"labels\"] = labels[\"input_ids\"]\n",
        "    return model_inputs"
      ],
      "metadata": {
        "id": "0W1FdPxdXMU-"
      },
      "execution_count": null,
      "outputs": []
    },
    {
      "cell_type": "code",
      "source": [
        "tokenized_billsum = billsum.map(preprocess_function, batched=True)"
      ],
      "metadata": {
        "colab": {
          "base_uri": "https://localhost:8080/",
          "height": 81,
          "referenced_widgets": [
            "411b8c4d35a7490095a9142785590f98",
            "d989d92bb65e4b859bc1a7341db934c8",
            "9effb151b97f41edb3714e145fd48bbe",
            "ac4f0c62af61472c80fd038f5b3dc710",
            "8b73c3c7fcd94fa7bec1dc8dc2a0523c",
            "9b0fd3cf8d524444b9c30f582b3fe655",
            "b2c6048f25c4473dbc177b01e07ad411",
            "d3ba6cbac4e34a8b8e1c55e8c8a3fa8c",
            "8f1dd895888a4a7e9f2131fefd11e551",
            "abebc2e88abd49d7a07ed3d3a1dc5493",
            "4ab004f4bf6248798ef99de496929b3b",
            "35fe4c32e7064478be0eaa5d826f48fb",
            "e22b8975ec384dde9fedf4b6939c0124",
            "e089ec67c747452eb61560abdf8d6f53",
            "b0beabaa35e047ec8862e84e7c8d0e0d",
            "f82a827f0e154ee0981045d0fbbcddcf",
            "0a20260312be4beb8eaba6c01279bea5",
            "ed3b448364a746388f621902df94627c",
            "f5b489760b4f4146bbb46cc83d570dee",
            "ee5e056e1532425f8d7b98b61aac28a9",
            "a4931e7edf5b4437804341b8dc8fdb3b",
            "55a36b9f3c0349a8bb2b7c28f576a482"
          ]
        },
        "id": "ZfHdZFx0XNbC",
        "outputId": "4a192108-adf2-4731-b7dd-b97e2e177e2a"
      },
      "execution_count": null,
      "outputs": [
        {
          "output_type": "display_data",
          "data": {
            "text/plain": [
              "Map:   0%|          | 0/1113 [00:00<?, ? examples/s]"
            ],
            "application/vnd.jupyter.widget-view+json": {
              "version_major": 2,
              "version_minor": 0,
              "model_id": "411b8c4d35a7490095a9142785590f98"
            }
          },
          "metadata": {}
        },
        {
          "output_type": "display_data",
          "data": {
            "text/plain": [
              "Map:   0%|          | 0/124 [00:00<?, ? examples/s]"
            ],
            "application/vnd.jupyter.widget-view+json": {
              "version_major": 2,
              "version_minor": 0,
              "model_id": "35fe4c32e7064478be0eaa5d826f48fb"
            }
          },
          "metadata": {}
        }
      ]
    },
    {
      "cell_type": "code",
      "source": [
        "model = transformers.AutoModelForSeq2SeqLM.from_pretrained(\"ainize/bart-base-cnn\")"
      ],
      "metadata": {
        "id": "7DAqFcwXXOLR"
      },
      "execution_count": null,
      "outputs": []
    },
    {
      "cell_type": "code",
      "source": [
        "data_collator = transformers.DataCollatorForSeq2Seq(tokenizer=tokenizer, model=model)"
      ],
      "metadata": {
        "id": "fjZMsBaTXVp0"
      },
      "execution_count": null,
      "outputs": []
    },
    {
      "cell_type": "code",
      "source": [
        "# Настройки обучения для Seq2Seq-модели\n",
        "training_args = transformers.Seq2SeqTrainingArguments(\n",
        "        output_dir=\"./results\",\n",
        "        eval_strategy=\"epoch\",\n",
        "        learning_rate=2e-5,\n",
        "        per_device_train_batch_size=4,\n",
        "        per_device_eval_batch_size=4,\n",
        "        weight_decay=0.01,\n",
        "        save_total_limit=3,\n",
        "        num_train_epochs=2,\n",
        "        report_to=\"none\",\n",
        "    )"
      ],
      "metadata": {
        "id": "A7godEe4XYZU"
      },
      "execution_count": null,
      "outputs": []
    },
    {
      "cell_type": "code",
      "source": [
        "print(tokenized_billsum)  #какие ключи/колонки есть в датасете"
      ],
      "metadata": {
        "colab": {
          "base_uri": "https://localhost:8080/"
        },
        "id": "S8MQuCmL1sFd",
        "outputId": "32b1166f-68f0-469d-efc4-c42794e5f1b5"
      },
      "execution_count": null,
      "outputs": [
        {
          "output_type": "stream",
          "name": "stdout",
          "text": [
            "DatasetDict({\n",
            "    train: Dataset({\n",
            "        features: ['text', 'summary', 'title', 'input_ids', 'attention_mask', 'labels'],\n",
            "        num_rows: 1113\n",
            "    })\n",
            "    test: Dataset({\n",
            "        features: ['text', 'summary', 'title', 'input_ids', 'attention_mask', 'labels'],\n",
            "        num_rows: 124\n",
            "    })\n",
            "})\n"
          ]
        }
      ]
    },
    {
      "cell_type": "code",
      "source": [
        "# Инициализация тренера для Seq2Seq-модели\n",
        "trainer = transformers.Seq2SeqTrainer(\n",
        "    model=model,\n",
        "    args=training_args,\n",
        "    train_dataset=tokenized_billsum[\"train\"],\n",
        "    eval_dataset=tokenized_billsum[\"test\"],\n",
        "    tokenizer=tokenizer,\n",
        "    data_collator=data_collator,\n",
        ")"
      ],
      "metadata": {
        "colab": {
          "base_uri": "https://localhost:8080/"
        },
        "id": "JYCwd5dLXbH1",
        "outputId": "609f691c-7f87-4bb5-d092-514a28b2210d"
      },
      "execution_count": null,
      "outputs": [
        {
          "output_type": "stream",
          "name": "stderr",
          "text": [
            "<ipython-input-38-199256a528cd>:1: FutureWarning: `tokenizer` is deprecated and will be removed in version 5.0.0 for `Seq2SeqTrainer.__init__`. Use `processing_class` instead.\n",
            "  trainer = transformers.Seq2SeqTrainer(\n"
          ]
        }
      ]
    },
    {
      "cell_type": "code",
      "source": [
        "trainer.train()"
      ],
      "metadata": {
        "colab": {
          "base_uri": "https://localhost:8080/",
          "height": 225
        },
        "id": "J1gp70BRXOOy",
        "outputId": "ceb9c84b-1b27-429f-a127-6b80e3062590"
      },
      "execution_count": null,
      "outputs": [
        {
          "output_type": "display_data",
          "data": {
            "text/plain": [
              "<IPython.core.display.HTML object>"
            ],
            "text/html": [
              "\n",
              "    <div>\n",
              "      \n",
              "      <progress value='558' max='558' style='width:300px; height:20px; vertical-align: middle;'></progress>\n",
              "      [558/558 07:02, Epoch 2/2]\n",
              "    </div>\n",
              "    <table border=\"1\" class=\"dataframe\">\n",
              "  <thead>\n",
              " <tr style=\"text-align: left;\">\n",
              "      <th>Epoch</th>\n",
              "      <th>Training Loss</th>\n",
              "      <th>Validation Loss</th>\n",
              "    </tr>\n",
              "  </thead>\n",
              "  <tbody>\n",
              "    <tr>\n",
              "      <td>1</td>\n",
              "      <td>No log</td>\n",
              "      <td>2.018363</td>\n",
              "    </tr>\n",
              "    <tr>\n",
              "      <td>2</td>\n",
              "      <td>2.165600</td>\n",
              "      <td>1.967687</td>\n",
              "    </tr>\n",
              "  </tbody>\n",
              "</table><p>"
            ]
          },
          "metadata": {}
        },
        {
          "output_type": "stream",
          "name": "stderr",
          "text": [
            "/usr/local/lib/python3.11/dist-packages/transformers/modeling_utils.py:3464: UserWarning: Moving the following attributes in the config to the generation config: {'early_stopping': True, 'num_beams': 4, 'no_repeat_ngram_size': 3}. You are seeing this warning because you've set generation parameters in the model config, as opposed to in the generation config.\n",
            "  warnings.warn(\n"
          ]
        },
        {
          "output_type": "execute_result",
          "data": {
            "text/plain": [
              "TrainOutput(global_step=558, training_loss=2.151993905344317, metrics={'train_runtime': 424.0101, 'train_samples_per_second': 5.25, 'train_steps_per_second': 1.316, 'total_flos': 1357273356042240.0, 'train_loss': 2.151993905344317, 'epoch': 2.0})"
            ]
          },
          "metadata": {},
          "execution_count": 39
        }
      ]
    },
    {
      "cell_type": "markdown",
      "source": [
        "# Предсказания на тестовом множестве"
      ],
      "metadata": {
        "id": "tzg5u-wU9Pky"
      }
    },
    {
      "cell_type": "code",
      "source": [
        "text_example = billsum[\"test\"]['text'][0]\n",
        "print(text_example)"
      ],
      "metadata": {
        "colab": {
          "base_uri": "https://localhost:8080/"
        },
        "id": "ySPgG2jy2XVB",
        "outputId": "ae6ba021-b791-4f8f-a5f5-68186af358b3"
      },
      "execution_count": null,
      "outputs": [
        {
          "output_type": "stream",
          "name": "stdout",
          "text": [
            "The people of the State of California do enact as follows:\n",
            "\n",
            "\n",
            "SECTION 1.\n",
            "Section 1253.3 of the Unemployment Insurance Code is amended to read:\n",
            "1253.3.\n",
            "(a) Notwithstanding any other provision of this division, unemployment compensation benefits, extended duration benefits, and federal-state extended benefits are payable on the basis of service to which Section 3309(a)(1) of the Internal Revenue Code applies, in the same amount, on the same terms, and subject to the same conditions as benefits payable on the basis of other service subject to this division, except as provided by this section.\n",
            "(b) Benefits specified by subdivision (a) based on service performed in the employ of a nonprofit organization, or of a public entity, as defined by Section 605, with respect to service in an instructional, research, or principal administrative capacity for an educational institution are not payable to any individual with respect to any week which begins during the period between two successive academic years or terms or, when an agreement provides instead for a similar period between two regular but not successive terms, during that period, or during a period of paid sabbatical leave provided for in the individual’s contract, if the individual performs services in the first of the academic years or terms and if there is a contract or a reasonable assurance that the individual will perform services for any educational institution in the second of the academic years or terms.\n",
            "(c) (1) Except as provided in paragraph (2), benefits specified by subdivision (a) based on service performed in the employ of a nonprofit organization, or of a public entity, as defined by Section 605, with respect to service in any other capacity than specified in subdivision (b) for an educational institution shall not be payable to any individual with respect to any week which commences during a period between two successive academic years or terms if the individual performs the service in the first of the academic years or terms and there is a reasonable assurance that the individual will perform the service in the second of the academic years or terms. However, if the individual was not offered an opportunity to perform the services for an educational institution for the second of the academic years or terms, the individual shall be entitled to a retroactive payment of benefits for each week for which the individual filed a timely claim for benefits and for which benefits were denied solely by reason of this subdivision. Retroactive benefits shall be claimed in accordance with the department’s procedures which shall specify that except where the individual was entitled to benefits based on services performed for other than an educational institution, an individual who has a reasonable assurance of reemployment may satisfy the search for work requirement of subdivision (e) of Section 1253, by registering for work pursuant to subdivision (b) of Section 1253 during the period between the first and second academic terms or years. A claim for retroactive benefits may be made no later than 30 days following the commencement of the second academic year or term.\n",
            "(2) Benefits specified by subdivision (a) are authorized for an employee of a public school, as defined in Section 22161 of the Education Code, for the period between two successive academic years or terms, as described in paragraph (1), as follows:\n",
            "(A) Two weeks of benefits during 2017, beginning July 1, provided that funds are appropriated for that purpose in the annual Budget Act.\n",
            "(B) Four weeks of benefits during 2018, beginning July 1, provided that funds are appropriated for that purpose in the annual Budget Act.\n",
            "(C) Six weeks of benefits during 2019, beginning July 1, provided that funds are appropriated for that purpose in the annual Budget Act.\n",
            "(D) Eight weeks of benefits during 2020, and each year thereafter, beginning July 1, provided that funds are appropriated for that purpose in the annual Budget Act.\n",
            "(d) Benefits specified by subdivision (a) based on service performed in the employ of a nonprofit organization, or of any entity as defined by Section 605, with respect to services specified by subdivision (b) or (c), are not payable to any individual with respect to any week that commences during an established and customary vacation period or holiday recess if the individual performs the specified services in the period immediately before the vacation period or holiday recess, and there is a reasonable assurance that the individual will perform the services in the period immediately following the vacation period or holiday recess.\n",
            "(e) With respect to any services specified by subdivision (b) or (c), compensation payable on the basis of services in that capacity may be denied as specified in subdivision (b), (c), or (d) to any individual who performed the services in an educational institution while in the employ of an educational service agency, and for this purpose the term “educational service agency” is defined as a governmental agency or governmental entity that is established and operated exclusively for the purpose of providing the services to one or more educational institutions.\n",
            "(f) Benefits specified by subdivision (a) based on service performed in the employ of a nonprofit organization, or of any entity as defined by Section 605, are not payable during the periods of time, and subject to the same conditions, contained in subdivisions (b), (c), (d), and (h), if the services are provided to, or on behalf of, an educational institution.\n",
            "(g) For purposes of this section, “reasonable assurance” includes, but is not limited to, an offer of employment or assignment made by the educational institution, provided that the offer or assignment is not contingent on enrollment, funding, or program changes. An individual who has been notified that he or she will be replaced and does not have an offer of employment or assignment to perform services for an educational institution is not considered to have reasonable assurance.\n",
            "(h) For purposes of this section, if the time for service performed during the period of and pursuant to any contract for any academic year or term by an individual for any employing unit as specified in subdivision (b) or (c) constitutes one-half or more of the time in total service performed for the employing unit by the individual during that same period for remuneration, all the services of the individual for the employing unit for that period shall be deemed subject to the benefit payment restriction provisions of this section.\n",
            "(i) Any entity as defined by Section 605, with respect to any individual performing a service in any other capacity other than specified in subdivision (b) for an educational institution, shall provide a written statement indicating the following to the individual no later than 30 days before the end of the first of the academic years or terms:\n",
            "(1) Whether or not there is a reasonable assurance of reemployment.\n",
            "(2) Whether or not it is stated that the individual has no reasonable assurance of reemployment, that the individual should file a claim for benefits at the close of the academic year or term.\n",
            "(3) If it is stated that the individual has reasonable assurance of reemployment, the written statement shall also inform the employee that he or she may file a claim for benefits and that the determination for eligibility for benefits is made by the Employment Development Department and not by the employer.\n",
            "(4) If it is stated that the individual has reasonable assurance of reemployment, that the individual shall be entitled to a retroactive payment of benefits if the individual is not offered an opportunity to perform the services for the educational institution for the second of the academic years or terms, if the individual is otherwise eligible and he or she filed a claim for each week benefits are claimed, and if a claim for retroactive benefits is made no later than 30 days following the commencement of the second academic year or term.\n"
          ]
        }
      ]
    },
    {
      "cell_type": "code",
      "source": [
        "#Токенизация и подготовка входных данных для модели\n",
        "input_ids = tokenizer.encode(\n",
        "    text_example,\n",
        "    return_tensors=\"pt\",\n",
        "    max_length=1024,\n",
        "    truncation=True,\n",
        "    ).to(device)"
      ],
      "metadata": {
        "id": "0WqRFfba7dRn",
        "colab": {
          "base_uri": "https://localhost:8080/",
          "height": 207
        },
        "outputId": "2889df50-bc47-4b68-b7ea-0d3d276352f5"
      },
      "execution_count": null,
      "outputs": [
        {
          "output_type": "error",
          "ename": "NameError",
          "evalue": "name 'tokenizer' is not defined",
          "traceback": [
            "\u001b[0;31m---------------------------------------------------------------------------\u001b[0m",
            "\u001b[0;31mNameError\u001b[0m                                 Traceback (most recent call last)",
            "\u001b[0;32m/tmp/ipython-input-1-2014726981.py\u001b[0m in \u001b[0;36m<cell line: 0>\u001b[0;34m()\u001b[0m\n\u001b[0;32m----> 1\u001b[0;31m input_ids = tokenizer.encode(\n\u001b[0m\u001b[1;32m      2\u001b[0m     \u001b[0mtext_example\u001b[0m\u001b[0;34m,\u001b[0m\u001b[0;34m\u001b[0m\u001b[0;34m\u001b[0m\u001b[0m\n\u001b[1;32m      3\u001b[0m     \u001b[0mreturn_tensors\u001b[0m\u001b[0;34m=\u001b[0m\u001b[0;34m\"pt\"\u001b[0m\u001b[0;34m,\u001b[0m\u001b[0;34m\u001b[0m\u001b[0;34m\u001b[0m\u001b[0m\n\u001b[1;32m      4\u001b[0m     \u001b[0mmax_length\u001b[0m\u001b[0;34m=\u001b[0m\u001b[0;36m1024\u001b[0m\u001b[0;34m,\u001b[0m\u001b[0;34m\u001b[0m\u001b[0;34m\u001b[0m\u001b[0m\n\u001b[1;32m      5\u001b[0m     \u001b[0mtruncation\u001b[0m\u001b[0;34m=\u001b[0m\u001b[0;32mTrue\u001b[0m\u001b[0;34m,\u001b[0m\u001b[0;34m\u001b[0m\u001b[0;34m\u001b[0m\u001b[0m\n",
            "\u001b[0;31mNameError\u001b[0m: name 'tokenizer' is not defined"
          ]
        }
      ]
    },
    {
      "cell_type": "code",
      "source": [
        "input_ids.shape"
      ],
      "metadata": {
        "colab": {
          "base_uri": "https://localhost:8080/"
        },
        "id": "ORjTNm0R7iDz",
        "outputId": "0266e39e-3fe9-4d49-eba5-9bf9a6252d03"
      },
      "execution_count": null,
      "outputs": [
        {
          "output_type": "execute_result",
          "data": {
            "text/plain": [
              "torch.Size([1, 1024])"
            ]
          },
          "metadata": {},
          "execution_count": 42
        }
      ]
    },
    {
      "cell_type": "code",
      "source": [
        "#Генерация текста моделью\n",
        "summary_text_ids = model.generate(\n",
        "    input_ids=input_ids,\n",
        "    bos_token_id=model.config.bos_token_id,\n",
        "    eos_token_id=model.config.eos_token_id,\n",
        "    max_length=142,\n",
        "    min_length=56,\n",
        "    num_beams=4,\n",
        ")"
      ],
      "metadata": {
        "id": "awqB0YyR7iIa"
      },
      "execution_count": null,
      "outputs": []
    },
    {
      "cell_type": "code",
      "source": [
        "summary_text_ids"
      ],
      "metadata": {
        "colab": {
          "base_uri": "https://localhost:8080/"
        },
        "id": "BhU3bQDo7oaq",
        "outputId": "6a7fb4bd-0c96-439a-e9c8-03785361926c"
      },
      "execution_count": null,
      "outputs": [
        {
          "output_type": "execute_result",
          "data": {
            "text/plain": [
              "tensor([[    2,     0,  9089, 15528,   488,  1639,    14,  5755,  4660,  1795,\n",
              "             6,  3112, 13428,  1795,     6,     8,   752,    12,  4897,  3112,\n",
              "          1795,    32, 21467,    15,     5,  1453,     9,   544,     7,    61,\n",
              "             5, 18387,  5833,  8302, 11459,     6,    11,     5,   276,  1280,\n",
              "             6,    15,     5,   276,  1110,     6,     8,  2087,     7,     5,\n",
              "           276,  1274,    25,  1795, 21467,    15,    10,  1453,     9,    97,\n",
              "           544,  2087,     7,    42,  2757,     6,  4682,    25,  1286,     4,\n",
              "          3015, 15528,   488,    67,  1639,    14,  1795, 17966,    30, 28764,\n",
              "            36,   102,    43,   716,    15,   544,  3744,    11,     5, 12735,\n",
              "             9,    10,  6651,  1651,     6,    50,     9,    10,   285, 10014,\n",
              "             6,    25,  6533,     6,    19,  2098,     7,   544,    11,    41,\n",
              "         35289,     6,   557,     6,    50,  5402,  6833,  2148,    13,    41,\n",
              "          5984,  6786,    32,    45, 21467,     7,   143,  1736,     2]],\n",
              "       device='cuda:0')"
            ]
          },
          "metadata": {},
          "execution_count": 44
        }
      ]
    },
    {
      "cell_type": "code",
      "source": [
        "#Декодирование выходных токенов в текст\n",
        "decoded_text = tokenizer.decode(summary_text_ids[0], skip_special_tokens=True)"
      ],
      "metadata": {
        "id": "kwMFjMOI7oq_"
      },
      "execution_count": null,
      "outputs": []
    },
    {
      "cell_type": "code",
      "source": [
        "len(decoded_text), len(text_example)"
      ],
      "metadata": {
        "colab": {
          "base_uri": "https://localhost:8080/"
        },
        "id": "QOppn7wi7_lu",
        "outputId": "723f2584-260d-48e3-fab5-da2cefe2be5e"
      },
      "execution_count": null,
      "outputs": [
        {
          "output_type": "execute_result",
          "data": {
            "text/plain": [
              "(706, 8060)"
            ]
          },
          "metadata": {},
          "execution_count": 46
        }
      ]
    },
    {
      "cell_type": "code",
      "source": [
        "decoded_text"
      ],
      "metadata": {
        "colab": {
          "base_uri": "https://localhost:8080/",
          "height": 103
        },
        "id": "5mBlCq9W7_o_",
        "outputId": "2cd3cc3f-d20d-47f0-c900-8e793a8baa02"
      },
      "execution_count": null,
      "outputs": [
        {
          "output_type": "execute_result",
          "data": {
            "text/plain": [
              "'Existing law provides that unemployment compensation benefits, extended duration benefits, and federal-state extended benefits are payable on the basis of service to which the Internal Revenue Code applies, in the same amount, on the same terms, and subject to the same conditions as benefits payable on a basis of other service subject to this division, except as provided. Existing law also provides that benefits specified by subdivision (a) based on service performed in the employ of a nonprofit organization, or of a public entity, as defined, with respect to service in an instructional, research, or principal administrative capacity for an educational institution are not payable to any individual'"
            ],
            "application/vnd.google.colaboratory.intrinsic+json": {
              "type": "string"
            }
          },
          "metadata": {},
          "execution_count": 47
        }
      ]
    },
    {
      "cell_type": "code",
      "source": [
        "#Пакетное создание суммаризаций для тестовых текстов через beam search с параметрами [max=142, min=56]\n",
        "summaries = []\n",
        "\n",
        "for text in tqdm(billsum[\"test\"]['text']):\n",
        "    input_ids = tokenizer.encode(\n",
        "        text,\n",
        "        return_tensors=\"pt\",\n",
        "        max_length=1024,\n",
        "        truncation=True,\n",
        "        ).to(device)\n",
        "\n",
        "    summary_text_ids = model.generate(\n",
        "        input_ids=input_ids,\n",
        "        bos_token_id=model.config.bos_token_id,\n",
        "        eos_token_id=model.config.eos_token_id,\n",
        "        max_length=142,\n",
        "        min_length=56,\n",
        "        num_beams=4,\n",
        "    )\n",
        "\n",
        "    decoded_text = tokenizer.decode(summary_text_ids[0], skip_special_tokens=True)\n",
        "    summaries.append(decoded_text)"
      ],
      "metadata": {
        "colab": {
          "base_uri": "https://localhost:8080/",
          "height": 49,
          "referenced_widgets": [
            "bdcc293e18b441b6ad494e3c4207e1b1",
            "66d74911e24b4ff0acc78e9e727181f6",
            "919b8c38415e490c8c0f9300936c7644",
            "b7028cca5c8b40dab483765d0776b967",
            "543d264b62184ac6ac7e7623e7a86375",
            "d922d26cf2574a17bc4a8cd2ae9edd28",
            "6e0f3f217bf14a5d97893c9794cc66ed",
            "23e8b35e8efa466b9feface926ec1850",
            "c900775d5bcd406489d2f6d3ebc173fb",
            "ee9f7d6baebc4d64ac58d651e728bcb9",
            "be364ff7d8334577b677633074ffd43a"
          ]
        },
        "id": "H2HvbKMq8JEc",
        "outputId": "dd0c34c7-bf5f-42fb-e031-84fe74207f2e"
      },
      "execution_count": null,
      "outputs": [
        {
          "output_type": "display_data",
          "data": {
            "text/plain": [
              "  0%|          | 0/124 [00:00<?, ?it/s]"
            ],
            "application/vnd.jupyter.widget-view+json": {
              "version_major": 2,
              "version_minor": 0,
              "model_id": "bdcc293e18b441b6ad494e3c4207e1b1"
            }
          },
          "metadata": {}
        }
      ]
    },
    {
      "cell_type": "markdown",
      "source": [
        "# Считаем качество(ROUGE)"
      ],
      "metadata": {
        "id": "C6N4FVNT-1qX"
      }
    },
    {
      "cell_type": "code",
      "source": [
        "!pip install rouge_score"
      ],
      "metadata": {
        "colab": {
          "base_uri": "https://localhost:8080/"
        },
        "id": "NjrysrjO8jWc",
        "outputId": "d2757c8a-a222-4b15-fbb8-e50d948f7fe1"
      },
      "execution_count": null,
      "outputs": [
        {
          "output_type": "stream",
          "name": "stdout",
          "text": [
            "Collecting rouge_score\n",
            "  Downloading rouge_score-0.1.2.tar.gz (17 kB)\n",
            "  Preparing metadata (setup.py) ... \u001b[?25l\u001b[?25hdone\n",
            "Requirement already satisfied: absl-py in /usr/local/lib/python3.11/dist-packages (from rouge_score) (1.4.0)\n",
            "Requirement already satisfied: nltk in /usr/local/lib/python3.11/dist-packages (from rouge_score) (3.9.1)\n",
            "Requirement already satisfied: numpy in /usr/local/lib/python3.11/dist-packages (from rouge_score) (2.0.2)\n",
            "Requirement already satisfied: six>=1.14.0 in /usr/local/lib/python3.11/dist-packages (from rouge_score) (1.17.0)\n",
            "Requirement already satisfied: click in /usr/local/lib/python3.11/dist-packages (from nltk->rouge_score) (8.2.0)\n",
            "Requirement already satisfied: joblib in /usr/local/lib/python3.11/dist-packages (from nltk->rouge_score) (1.5.0)\n",
            "Requirement already satisfied: regex>=2021.8.3 in /usr/local/lib/python3.11/dist-packages (from nltk->rouge_score) (2024.11.6)\n",
            "Requirement already satisfied: tqdm in /usr/local/lib/python3.11/dist-packages (from nltk->rouge_score) (4.67.1)\n",
            "Building wheels for collected packages: rouge_score\n",
            "  Building wheel for rouge_score (setup.py) ... \u001b[?25l\u001b[?25hdone\n",
            "  Created wheel for rouge_score: filename=rouge_score-0.1.2-py3-none-any.whl size=24934 sha256=716480f395faff2446c163b7f5dccb557f76e147f5204124fecd83a145450e7d\n",
            "  Stored in directory: /root/.cache/pip/wheels/1e/19/43/8a442dc83660ca25e163e1bd1f89919284ab0d0c1475475148\n",
            "Successfully built rouge_score\n",
            "Installing collected packages: rouge_score\n",
            "Successfully installed rouge_score-0.1.2\n"
          ]
        }
      ]
    },
    {
      "cell_type": "code",
      "source": [
        "rouge = evaluate.load('rouge')"
      ],
      "metadata": {
        "colab": {
          "base_uri": "https://localhost:8080/",
          "height": 49,
          "referenced_widgets": [
            "e1d3f376852e4e4ab85ee04a4097c0c3",
            "9160e5a03e814646800c1daad92eb627",
            "c5cd3dae28fe4ea49ce27c20788e6013",
            "2084d768f0be4a5b90fbbbaa1da9f240",
            "8b88525a47944fc1b93c4bbdc46a9b17",
            "fa542d14c4e944f1b96b1056668fe5e5",
            "1e3fd849be8e499180fc70ddb051c786",
            "235656e5f000426f9d3afc8a4bb3d015",
            "5b565943faad4e9396d6b41bc0ddfc46",
            "7aaf0fa72d6b403eb9d2abd9eafe802a",
            "234af34198db4ea59b1ed2f36b53e6f5"
          ]
        },
        "id": "5TQmBCGy-fY4",
        "outputId": "19796679-a3f5-4521-a41f-1fb712e2886e"
      },
      "execution_count": null,
      "outputs": [
        {
          "output_type": "display_data",
          "data": {
            "text/plain": [
              "Downloading builder script:   0%|          | 0.00/6.27k [00:00<?, ?B/s]"
            ],
            "application/vnd.jupyter.widget-view+json": {
              "version_major": 2,
              "version_minor": 0,
              "model_id": "e1d3f376852e4e4ab85ee04a4097c0c3"
            }
          },
          "metadata": {}
        }
      ]
    },
    {
      "cell_type": "code",
      "source": [
        "%%time\n",
        "results = rouge.compute(\n",
        "        predictions=summaries,\n",
        "        references=billsum[\"test\"]['summary']\n",
        "    )"
      ],
      "metadata": {
        "colab": {
          "base_uri": "https://localhost:8080/"
        },
        "id": "eTXc0ZO_-hed",
        "outputId": "b57f98e5-ec7e-4dd6-cd70-ebec894153f0"
      },
      "execution_count": null,
      "outputs": [
        {
          "output_type": "stream",
          "name": "stdout",
          "text": [
            "CPU times: user 4.52 s, sys: 14.9 ms, total: 4.54 s\n",
            "Wall time: 10.3 s\n"
          ]
        }
      ]
    },
    {
      "cell_type": "code",
      "source": [
        "results"
      ],
      "metadata": {
        "colab": {
          "base_uri": "https://localhost:8080/"
        },
        "id": "JwP65TiA-hkp",
        "outputId": "8a759690-a0cc-4c57-f5c7-5a5b17290a8f"
      },
      "execution_count": null,
      "outputs": [
        {
          "output_type": "execute_result",
          "data": {
            "text/plain": [
              "{'rouge1': np.float64(0.33356530091882763),\n",
              " 'rouge2': np.float64(0.18769783062610373),\n",
              " 'rougeL': np.float64(0.22388302064252552),\n",
              " 'rougeLsum': np.float64(0.28580818644678463)}"
            ]
          },
          "metadata": {},
          "execution_count": 52
        }
      ]
    },
    {
      "cell_type": "code",
      "source": [],
      "metadata": {
        "id": "BbVsC-gM-sK6"
      },
      "execution_count": null,
      "outputs": []
    }
  ]
}